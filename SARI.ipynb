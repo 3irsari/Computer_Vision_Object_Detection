{
 "cells": [
  {
   "cell_type": "code",
   "execution_count": 1,
   "metadata": {},
   "outputs": [
    {
     "name": "stdout",
     "output_type": "stream",
     "text": [
      "Processed annotations for train\n",
      "Precision: 1.00, Recall: 1.00, F1 Score: 1.00\n",
      "Total true positives: 8696\n",
      "Total false negatives: 0\n",
      "Total false positives: 0\n",
      "Processed annotations for valid\n",
      "Precision: 1.00, Recall: 1.00, F1 Score: 1.00\n",
      "Total true positives: 1957\n",
      "Total false negatives: 0\n",
      "Total false positives: 0\n",
      "Processed annotations for test\n",
      "Precision: 1.00, Recall: 1.00, F1 Score: 1.00\n",
      "Total true positives: 1968\n",
      "Total false negatives: 0\n",
      "Total false positives: 0\n",
      "YOLO dataset compressed and saved as yolo_final.zip\n"
     ]
    }
   ],
   "source": [
    "import os\n",
    "import json\n",
    "import shutil\n",
    "from PIL import Image, ImageDraw\n",
    "import random\n",
    "import torchvision.transforms as T\n",
    "\n",
    "# Define desired categories for filtering\n",
    "categories = ['airplane', 'aircraft']\n",
    "\n",
    "# List of paths to the annotation files and corresponding image directories\n",
    "dataset_splits = [\n",
    "    {'name': 'train', 'annotation_file': 'SkyFusion/train/_annotations.coco.json', 'input_image_dir': 'SkyFusion/train/'},\n",
    "    {'name': 'valid', 'annotation_file': 'SkyFusion/valid/_annotations.coco.json', 'input_image_dir': 'SkyFusion/valid/'},\n",
    "    {'name': 'test', 'annotation_file': 'SkyFusion/test/_annotations.coco.json', 'input_image_dir': 'SkyFusion/test/'}\n",
    "]\n",
    "\n",
    "# Define base paths for output\n",
    "base_output_dir = 'SkyFusion/augmented'\n",
    "output_with_detections_dir = os.path.join(base_output_dir, 'detections')\n",
    "output_without_detections_dir = os.path.join(base_output_dir, 'no_detections')\n",
    "\n",
    "# Define augmentation transformations\n",
    "augmentations = T.Compose([\n",
    "    T.RandomHorizontalFlip(p=0.5),\n",
    "    T.ColorJitter(brightness=0.2, contrast=0.2, saturation=0.2, hue=0.1),\n",
    "    T.RandomRotation(degrees=10)\n",
    "])\n",
    "\n",
    "# Function to apply augmentations\n",
    "def apply_augmentations(img):\n",
    "    return augmentations(img)\n",
    "\n",
    "# Function to calculate IoU\n",
    "def calculate_iou(box1, box2):\n",
    "    if len(box1) != 4 or len(box2) != 4:\n",
    "        print(\"Invalid box format\")\n",
    "        return 0.0\n",
    "\n",
    "    x1, y1, w1, h1 = box1\n",
    "    x2, y2, w2, h2 = box2\n",
    "\n",
    "    # Calculate overlap coordinates\n",
    "    x_left = max(x1, x2)\n",
    "    y_top = max(y1, y2)\n",
    "    x_right = min(x1 + w1, x2 + w2)\n",
    "    y_bottom = min(y1 + h1, y2 + h2)\n",
    "\n",
    "    if x_right < x_left or y_bottom < y_top:\n",
    "        return 0.0  # No overlap\n",
    "\n",
    "    intersection_area = (x_right - x_left) * (y_bottom - y_top)\n",
    "    box1_area = w1 * h1\n",
    "    box2_area = w2 * h2\n",
    "    union_area = box1_area + box2_area - intersection_area\n",
    "\n",
    "    return intersection_area / union_area\n",
    "\n",
    "# Loop through dataset splits (train, valid, test)\n",
    "for split in dataset_splits:\n",
    "    split_name = split['name']\n",
    "    annotation_file = split['annotation_file']\n",
    "    input_image_dir = split['input_image_dir']\n",
    "\n",
    "    # Define paths for split-specific images and labels in both folders\n",
    "    output_image_dir_with_detections = os.path.join(output_with_detections_dir, split_name, 'images')\n",
    "    output_label_dir_with_detections = os.path.join(output_with_detections_dir, split_name, 'labels')\n",
    "    output_image_dir_without_detections = os.path.join(output_without_detections_dir, split_name, 'images')\n",
    "    output_label_dir_without_detections = os.path.join(output_without_detections_dir, split_name, 'labels')\n",
    "\n",
    "    # Ensure output directories exist\n",
    "    os.makedirs(output_image_dir_with_detections, exist_ok=True)\n",
    "    os.makedirs(output_label_dir_with_detections, exist_ok=True)\n",
    "    os.makedirs(output_image_dir_without_detections, exist_ok=True)\n",
    "    os.makedirs(output_label_dir_without_detections, exist_ok=True)\n",
    "\n",
    "    # Load the COCO annotations file\n",
    "    with open(annotation_file) as f:\n",
    "        coco_data = json.load(f)\n",
    "\n",
    "    # Find category_id for \"airplane\" or \"aircraft\"\n",
    "    airplane_category_id = None\n",
    "    for category in coco_data['categories']:\n",
    "        if category['name'].lower() in categories:\n",
    "            airplane_category_id = category['id']\n",
    "            break\n",
    "\n",
    "    if airplane_category_id is None:\n",
    "        print(f\"Category not found in {annotation_file}. Skipping...\")\n",
    "        continue\n",
    "\n",
    "    # Dictionary to store annotations for each image containing airplanes\n",
    "    annotations_dict = {}\n",
    "\n",
    "    # Filter annotations for the desired category\n",
    "    for annotation in coco_data['annotations']:\n",
    "        if annotation['category_id'] == airplane_category_id:\n",
    "            image_id = annotation['image_id']\n",
    "            if image_id not in annotations_dict:\n",
    "                annotations_dict[image_id] = []\n",
    "            annotations_dict[image_id].append(annotation)\n",
    "\n",
    "    # Initialize evaluation metrics\n",
    "    total_true_positives = 0\n",
    "    total_false_positives = 0\n",
    "    total_false_negatives = 0\n",
    "\n",
    "    # Process images with relevant annotations\n",
    "    for image in coco_data['images']:\n",
    "        image_id = image['id']\n",
    "        if image_id in annotations_dict:\n",
    "            ground_truth_boxes = annotations_dict[image_id]\n",
    "            if not ground_truth_boxes:\n",
    "                print(f\"No ground truth boxes found for image {image_id}\")\n",
    "                continue\n",
    "\n",
    "            src_image_path = os.path.join(input_image_dir, image['file_name'])\n",
    "            dst_image_path = os.path.join(output_image_dir_with_detections, image['file_name'])\n",
    "\n",
    "            try:\n",
    "                img = Image.open(src_image_path).convert(\"RGB\")\n",
    "                # Apply augmentations only to the training set\n",
    "                if split_name == 'train':\n",
    "                    img = apply_augmentations(img)\n",
    "                img.save(dst_image_path)\n",
    "            except Exception as e:\n",
    "                print(f\"Error processing {src_image_path}: {e}\")\n",
    "                continue\n",
    "\n",
    "            # Open image to draw bounding boxes\n",
    "            with Image.open(dst_image_path) as img:\n",
    "                draw = ImageDraw.Draw(img)\n",
    "                img_width, img_height = img.size\n",
    "\n",
    "                yolo_labels = []\n",
    "                detected_ground_truths = set()\n",
    "\n",
    "                for annotation in ground_truth_boxes:\n",
    "                    if 'bbox' not in annotation or len(annotation['bbox']) != 4:\n",
    "                        print(f\"Invalid bbox format in annotation for image {image_id}\")\n",
    "                        continue\n",
    "\n",
    "                    bbox = annotation['bbox']\n",
    "                    x_min, y_min, width, height = bbox\n",
    "                    x_max = x_min + width\n",
    "                    y_max = y_min + height\n",
    "\n",
    "                    # Draw the rectangle on the image\n",
    "                    draw.rectangle([x_min, y_min, x_max, y_max], outline=\"red\", width=2)\n",
    "\n",
    "                    # Convert to YOLO format\n",
    "                    x_center = x_min + width / 2\n",
    "                    y_center = y_min + height / 2\n",
    "                    x_center /= img_width\n",
    "                    y_center /= img_height\n",
    "                    width /= img_width\n",
    "                    height /= img_height\n",
    "\n",
    "                    yolo_labels.append(f\"{airplane_category_id - 1} {x_center} {y_center} {width} {height}\\n\")\n",
    "\n",
    "                    # Evaluation (assuming perfect detection for this example)\n",
    "                    total_true_positives += 1\n",
    "                    detected_ground_truths.add(len(detected_ground_truths))\n",
    "\n",
    "                total_false_negatives += len(ground_truth_boxes) - len(detected_ground_truths)\n",
    "\n",
    "                # Save the image with bounding boxes\n",
    "                img.save(dst_image_path)\n",
    "\n",
    "                # Write YOLO format labels\n",
    "                yolo_label_path = os.path.join(output_label_dir_with_detections, image['file_name'].replace('.jpg', '.txt'))\n",
    "                with open(yolo_label_path, 'w') as label_file:\n",
    "                    label_file.writelines(yolo_labels)\n",
    "\n",
    "        else:\n",
    "            # Copy images without detections to the 'no_detections' folder\n",
    "            src_image_path = os.path.join(input_image_dir, image['file_name'])\n",
    "            dst_image_path = os.path.join(output_image_dir_without_detections, image['file_name'])\n",
    "            shutil.copy(src_image_path, dst_image_path)\n",
    "\n",
    "            # Create an empty label file\n",
    "            yolo_label_path = os.path.join(output_label_dir_without_detections, image['file_name'].replace('.jpg', '.txt'))\n",
    "            open(yolo_label_path, 'w').close()\n",
    "\n",
    "    # Calculate evaluation metrics for each split\n",
    "    precision = total_true_positives / (total_true_positives + total_false_positives) if total_true_positives + total_false_positives > 0 else 0\n",
    "    recall = total_true_positives / (total_true_positives + total_false_negatives) if total_true_positives + total_false_negatives > 0 else 0\n",
    "    f1_score = 2 * (precision * recall) / (precision + recall) if precision + recall > 0 else 0\n",
    "\n",
    "    print(f\"Processed annotations for {split_name}\")\n",
    "    print(f\"Precision: {precision:.2f}, Recall: {recall:.2f}, F1 Score: {f1_score:.2f}\")\n",
    "    print(f\"Total true positives: {total_true_positives}\")\n",
    "    print(f\"Total false negatives: {total_false_negatives}\")\n",
    "    print(f\"Total false positives: {total_false_positives}\")\n",
    "\n",
    "# Compress the 'yolo' directory\n",
    "shutil.make_archive('yolo_final', 'zip', 'SkyFusion/augmented')\n",
    "print(\"YOLO dataset compressed and saved as yolo_final.zip\")"
   ]
  },
  {
   "cell_type": "code",
   "execution_count": 7,
   "metadata": {},
   "outputs": [
    {
     "name": "stdout",
     "output_type": "stream",
     "text": [
      "Annotation files have been successfully created.\n"
     ]
    }
   ],
   "source": [
    "import json\n",
    "import os\n",
    "\n",
    "# Load the JSON data\n",
    "with open('./SkyFusion/test/_annotations.coco.json', 'r') as file:\n",
    "    data = json.load(file)\n",
    "\n",
    "# Create a directory to store the annotation files if it doesn't exist\n",
    "output_dir = './SkyFusion/test/labels'\n",
    "os.makedirs(output_dir, exist_ok=True)\n",
    "\n",
    "# Map category ids to their respective names\n",
    "categories = {category['id']: category['name'] for category in data['categories']}\n",
    "\n",
    "# Create a dictionary to map image IDs to their corresponding file names and dimensions\n",
    "image_info = {image['id']: (image['file_name'], image['width'], image['height']) for image in data['images']}\n",
    "\n",
    "# Iterate over annotations and create corresponding text files\n",
    "for annotation in data['annotations']:\n",
    "    image_id = annotation['image_id']\n",
    "    category_id = annotation['category_id']\n",
    "    bbox = annotation['bbox']\n",
    "    \n",
    "    # Extract image info\n",
    "    file_name, width, height = image_info[image_id]\n",
    "    category_name = categories[category_id]\n",
    "    \n",
    "    # Convert bounding box from absolute to relative format\n",
    "    x_min, y_min, box_width, box_height = bbox\n",
    "    x_center = (x_min + box_width / 2) / width\n",
    "    y_center = (y_min + box_height / 2) / height\n",
    "    norm_width = box_width / width\n",
    "    norm_height = box_height / height\n",
    "    \n",
    "    # Prepare the annotation line (format: category_id x_center y_center width height)\n",
    "    annotation_line = f\"{category_id} {x_center} {y_center} {norm_width} {norm_height}\"\n",
    "    \n",
    "    # Define the output file path\n",
    "    output_file_path = os.path.join(output_dir, f\"{os.path.splitext(file_name)[0]}.txt\")\n",
    "    \n",
    "    # Write the annotation to the corresponding file\n",
    "    with open(output_file_path, 'a') as output_file:\n",
    "        output_file.write(annotation_line + '\\n')\n",
    "\n",
    "print(\"Annotation files have been successfully created.\")\n"
   ]
  },
  {
   "cell_type": "code",
   "execution_count": 3,
   "metadata": {},
   "outputs": [
    {
     "name": "stdout",
     "output_type": "stream",
     "text": [
      "New https://pypi.org/project/ultralytics/8.3.27 available  Update with 'pip install -U ultralytics'\n",
      "Ultralytics 8.3.26  Python-3.11.1 torch-2.5.1+cpu CPU (Intel Core(TM) i7-8750H 2.20GHz)\n",
      "\u001b[34m\u001b[1mengine\\trainer: \u001b[0mtask=detect, mode=train, model=yolov8n.pt, data=data.yaml, epochs=10, time=None, patience=100, batch=16, imgsz=416, save=True, save_period=-1, cache=False, device=cpu, workers=8, project=None, name=train6, exist_ok=False, pretrained=True, optimizer=auto, verbose=True, seed=0, deterministic=True, single_cls=False, rect=False, cos_lr=False, close_mosaic=10, resume=False, amp=True, fraction=1.0, profile=False, freeze=None, multi_scale=False, overlap_mask=True, mask_ratio=4, dropout=0.0, val=True, split=val, save_json=False, save_hybrid=False, conf=0.5, iou=0.7, max_det=300, half=False, dnn=False, plots=True, source=None, vid_stride=1, stream_buffer=False, visualize=False, augment=False, agnostic_nms=False, classes=None, retina_masks=False, embed=None, show=False, save_frames=False, save_txt=False, save_conf=False, save_crop=False, show_labels=True, show_conf=True, show_boxes=True, line_width=None, format=torchscript, keras=False, optimize=False, int8=False, dynamic=False, simplify=True, opset=None, workspace=4, nms=False, lr0=0.01, lrf=0.01, momentum=0.937, weight_decay=0.0005, warmup_epochs=3.0, warmup_momentum=0.8, warmup_bias_lr=0.1, box=7.5, cls=0.5, dfl=1.5, pose=12.0, kobj=1.0, label_smoothing=0.0, nbs=64, hsv_h=0.015, hsv_s=0.7, hsv_v=0.4, degrees=0.0, translate=0.1, scale=0.5, shear=0.0, perspective=0.0, flipud=0.0, fliplr=0.5, bgr=0.0, mosaic=1.0, mixup=0.0, copy_paste=0.0, copy_paste_mode=flip, auto_augment=randaugment, erasing=0.4, crop_fraction=1.0, cfg=None, tracker=botsort.yaml, save_dir=runs\\detect\\train6\n",
      "Overriding model.yaml nc=80 with nc=2\n",
      "\n",
      "                   from  n    params  module                                       arguments                     \n",
      "  0                  -1  1       464  ultralytics.nn.modules.conv.Conv             [3, 16, 3, 2]                 \n",
      "  1                  -1  1      4672  ultralytics.nn.modules.conv.Conv             [16, 32, 3, 2]                \n",
      "  2                  -1  1      7360  ultralytics.nn.modules.block.C2f             [32, 32, 1, True]             \n",
      "  3                  -1  1     18560  ultralytics.nn.modules.conv.Conv             [32, 64, 3, 2]                \n",
      "  4                  -1  2     49664  ultralytics.nn.modules.block.C2f             [64, 64, 2, True]             \n",
      "  5                  -1  1     73984  ultralytics.nn.modules.conv.Conv             [64, 128, 3, 2]               \n",
      "  6                  -1  2    197632  ultralytics.nn.modules.block.C2f             [128, 128, 2, True]           \n",
      "  7                  -1  1    295424  ultralytics.nn.modules.conv.Conv             [128, 256, 3, 2]              \n",
      "  8                  -1  1    460288  ultralytics.nn.modules.block.C2f             [256, 256, 1, True]           \n",
      "  9                  -1  1    164608  ultralytics.nn.modules.block.SPPF            [256, 256, 5]                 \n",
      " 10                  -1  1         0  torch.nn.modules.upsampling.Upsample         [None, 2, 'nearest']          \n",
      " 11             [-1, 6]  1         0  ultralytics.nn.modules.conv.Concat           [1]                           \n",
      " 12                  -1  1    148224  ultralytics.nn.modules.block.C2f             [384, 128, 1]                 \n",
      " 13                  -1  1         0  torch.nn.modules.upsampling.Upsample         [None, 2, 'nearest']          \n",
      " 14             [-1, 4]  1         0  ultralytics.nn.modules.conv.Concat           [1]                           \n",
      " 15                  -1  1     37248  ultralytics.nn.modules.block.C2f             [192, 64, 1]                  \n",
      " 16                  -1  1     36992  ultralytics.nn.modules.conv.Conv             [64, 64, 3, 2]                \n",
      " 17            [-1, 12]  1         0  ultralytics.nn.modules.conv.Concat           [1]                           \n",
      " 18                  -1  1    123648  ultralytics.nn.modules.block.C2f             [192, 128, 1]                 \n",
      " 19                  -1  1    147712  ultralytics.nn.modules.conv.Conv             [128, 128, 3, 2]              \n",
      " 20             [-1, 9]  1         0  ultralytics.nn.modules.conv.Concat           [1]                           \n",
      " 21                  -1  1    493056  ultralytics.nn.modules.block.C2f             [384, 256, 1]                 \n",
      " 22        [15, 18, 21]  1    751702  ultralytics.nn.modules.head.Detect           [2, [64, 128, 256]]           \n",
      "Model summary: 225 layers, 3,011,238 parameters, 3,011,222 gradients, 8.2 GFLOPs\n",
      "\n",
      "Transferred 319/355 items from pretrained weights\n",
      "\u001b[34m\u001b[1mTensorBoard: \u001b[0mStart with 'tensorboard --logdir runs\\detect\\train6', view at http://localhost:6006/\n",
      "Freezing layer 'model.22.dfl.conv.weight'\n"
     ]
    },
    {
     "name": "stderr",
     "output_type": "stream",
     "text": [
      "\u001b[34m\u001b[1mtrain: \u001b[0mScanning SkyFusion\\train\\labels... 700 images, 1394 backgrounds, 0 corrupt: 100%|██████████| 2094/2094 [00:01<00:00, 1530.54it/s]\n"
     ]
    },
    {
     "name": "stdout",
     "output_type": "stream",
     "text": [
      "\u001b[34m\u001b[1mtrain: \u001b[0mNew cache created: SkyFusion\\train\\labels.cache\n"
     ]
    },
    {
     "name": "stderr",
     "output_type": "stream",
     "text": [
      "\u001b[34m\u001b[1mval: \u001b[0mScanning \SkyFusion\\valid\\labels... 149 images, 300 backgrounds, 0 corrupt: 100%|██████████| 449/449 [00:00<00:00, 1490.38it/s]"
     ]
    },
    {
     "name": "stdout",
     "output_type": "stream",
     "text": [
      "\u001b[34m\u001b[1mval: \u001b[0mNew cache created: SkyFusion\\valid\\labels.cache\n"
     ]
    },
    {
     "name": "stderr",
     "output_type": "stream",
     "text": [
      "\n"
     ]
    },
    {
     "name": "stdout",
     "output_type": "stream",
     "text": [
      "Plotting labels to runs\\detect\\train6\\labels.jpg... \n",
      "\u001b[34m\u001b[1moptimizer:\u001b[0m 'optimizer=auto' found, ignoring 'lr0=0.01' and 'momentum=0.937' and determining best 'optimizer', 'lr0' and 'momentum' automatically... \n",
      "\u001b[34m\u001b[1moptimizer:\u001b[0m AdamW(lr=0.001667, momentum=0.9) with parameter groups 57 weight(decay=0.0), 64 weight(decay=0.0005), 63 bias(decay=0.0)\n",
      "\u001b[34m\u001b[1mTensorBoard: \u001b[0mmodel graph visualization added \n",
      "Image sizes 416 train, 416 val\n",
      "Using 0 dataloader workers\n",
      "Logging results to \u001b[1mruns\\detect\\train6\u001b[0m\n",
      "Starting training for 10 epochs...\n",
      "Closing dataloader mosaic\n",
      "\n",
      "      Epoch    GPU_mem   box_loss   cls_loss   dfl_loss  Instances       Size\n"
     ]
    },
    {
     "name": "stderr",
     "output_type": "stream",
     "text": [
      "       1/10         0G      1.777       2.09      1.149         11        416: 100%|██████████| 131/131 [04:28<00:00,  2.05s/it]\n",
      "                 Class     Images  Instances      Box(P          R      mAP50  mAP50-95): 100%|██████████| 15/15 [00:25<00:00,  1.69s/it]"
     ]
    },
    {
     "name": "stdout",
     "output_type": "stream",
     "text": [
      "                   all        449       1957      0.992      0.298      0.645      0.468\n"
     ]
    },
    {
     "name": "stderr",
     "output_type": "stream",
     "text": [
      "\n"
     ]
    },
    {
     "name": "stdout",
     "output_type": "stream",
     "text": [
      "\n",
      "      Epoch    GPU_mem   box_loss   cls_loss   dfl_loss  Instances       Size\n"
     ]
    },
    {
     "name": "stderr",
     "output_type": "stream",
     "text": [
      "       2/10         0G       1.51      1.227      1.037         52        416: 100%|██████████| 131/131 [04:24<00:00,  2.02s/it]\n",
      "                 Class     Images  Instances      Box(P          R      mAP50  mAP50-95): 100%|██████████| 15/15 [00:25<00:00,  1.71s/it]"
     ]
    },
    {
     "name": "stdout",
     "output_type": "stream",
     "text": [
      "                   all        449       1957       0.88      0.819      0.887      0.553\n"
     ]
    },
    {
     "name": "stderr",
     "output_type": "stream",
     "text": [
      "\n"
     ]
    },
    {
     "name": "stdout",
     "output_type": "stream",
     "text": [
      "\n",
      "      Epoch    GPU_mem   box_loss   cls_loss   dfl_loss  Instances       Size\n"
     ]
    },
    {
     "name": "stderr",
     "output_type": "stream",
     "text": [
      "       3/10         0G      1.488      1.169      1.039         81        416: 100%|██████████| 131/131 [04:25<00:00,  2.03s/it]\n",
      "                 Class     Images  Instances      Box(P          R      mAP50  mAP50-95): 100%|██████████| 15/15 [00:25<00:00,  1.67s/it]"
     ]
    },
    {
     "name": "stdout",
     "output_type": "stream",
     "text": [
      "                   all        449       1957      0.918       0.86      0.914       0.58\n"
     ]
    },
    {
     "name": "stderr",
     "output_type": "stream",
     "text": [
      "\n"
     ]
    },
    {
     "name": "stdout",
     "output_type": "stream",
     "text": [
      "\n",
      "      Epoch    GPU_mem   box_loss   cls_loss   dfl_loss  Instances       Size\n"
     ]
    },
    {
     "name": "stderr",
     "output_type": "stream",
     "text": [
      "       4/10         0G      1.454      1.143       1.02         35        416: 100%|██████████| 131/131 [04:23<00:00,  2.01s/it]\n",
      "                 Class     Images  Instances      Box(P          R      mAP50  mAP50-95): 100%|██████████| 15/15 [00:24<00:00,  1.65s/it]"
     ]
    },
    {
     "name": "stdout",
     "output_type": "stream",
     "text": [
      "                   all        449       1957      0.954      0.816       0.89      0.575\n"
     ]
    },
    {
     "name": "stderr",
     "output_type": "stream",
     "text": [
      "\n"
     ]
    },
    {
     "name": "stdout",
     "output_type": "stream",
     "text": [
      "\n",
      "      Epoch    GPU_mem   box_loss   cls_loss   dfl_loss  Instances       Size\n"
     ]
    },
    {
     "name": "stderr",
     "output_type": "stream",
     "text": [
      "       5/10         0G      1.391       0.83       1.01         22        416: 100%|██████████| 131/131 [04:27<00:00,  2.04s/it]\n",
      "                 Class     Images  Instances      Box(P          R      mAP50  mAP50-95): 100%|██████████| 15/15 [00:25<00:00,  1.68s/it]"
     ]
    },
    {
     "name": "stdout",
     "output_type": "stream",
     "text": [
      "                   all        449       1957      0.967      0.826      0.901      0.585\n"
     ]
    },
    {
     "name": "stderr",
     "output_type": "stream",
     "text": [
      "\n"
     ]
    },
    {
     "name": "stdout",
     "output_type": "stream",
     "text": [
      "\n",
      "      Epoch    GPU_mem   box_loss   cls_loss   dfl_loss  Instances       Size\n"
     ]
    },
    {
     "name": "stderr",
     "output_type": "stream",
     "text": [
      "       6/10         0G      1.372     0.7879      1.001         66        416: 100%|██████████| 131/131 [04:32<00:00,  2.08s/it]\n",
      "                 Class     Images  Instances      Box(P          R      mAP50  mAP50-95): 100%|██████████| 15/15 [00:26<00:00,  1.78s/it]"
     ]
    },
    {
     "name": "stdout",
     "output_type": "stream",
     "text": [
      "                   all        449       1957      0.966      0.866      0.921       0.61\n"
     ]
    },
    {
     "name": "stderr",
     "output_type": "stream",
     "text": [
      "\n"
     ]
    },
    {
     "name": "stdout",
     "output_type": "stream",
     "text": [
      "\n",
      "      Epoch    GPU_mem   box_loss   cls_loss   dfl_loss  Instances       Size\n"
     ]
    },
    {
     "name": "stderr",
     "output_type": "stream",
     "text": [
      "       7/10         0G      1.329     0.7054      1.001        119        416: 100%|██████████| 131/131 [04:29<00:00,  2.05s/it]\n",
      "                 Class     Images  Instances      Box(P          R      mAP50  mAP50-95): 100%|██████████| 15/15 [00:24<00:00,  1.66s/it]"
     ]
    },
    {
     "name": "stdout",
     "output_type": "stream",
     "text": [
      "                   all        449       1957      0.961      0.881       0.93      0.631\n"
     ]
    },
    {
     "name": "stderr",
     "output_type": "stream",
     "text": [
      "\n"
     ]
    },
    {
     "name": "stdout",
     "output_type": "stream",
     "text": [
      "\n",
      "      Epoch    GPU_mem   box_loss   cls_loss   dfl_loss  Instances       Size\n"
     ]
    },
    {
     "name": "stderr",
     "output_type": "stream",
     "text": [
      "       8/10         0G      1.294     0.6635     0.9789         18        416: 100%|██████████| 131/131 [04:20<00:00,  1.99s/it]\n",
      "                 Class     Images  Instances      Box(P          R      mAP50  mAP50-95): 100%|██████████| 15/15 [00:24<00:00,  1.66s/it]"
     ]
    },
    {
     "name": "stdout",
     "output_type": "stream",
     "text": [
      "                   all        449       1957       0.97      0.881      0.932      0.645\n"
     ]
    },
    {
     "name": "stderr",
     "output_type": "stream",
     "text": [
      "\n"
     ]
    },
    {
     "name": "stdout",
     "output_type": "stream",
     "text": [
      "\n",
      "      Epoch    GPU_mem   box_loss   cls_loss   dfl_loss  Instances       Size\n"
     ]
    },
    {
     "name": "stderr",
     "output_type": "stream",
     "text": [
      "       9/10         0G      1.275     0.6542     0.9827          5        416: 100%|██████████| 131/131 [04:22<00:00,  2.01s/it]\n",
      "                 Class     Images  Instances      Box(P          R      mAP50  mAP50-95): 100%|██████████| 15/15 [00:24<00:00,  1.66s/it]"
     ]
    },
    {
     "name": "stdout",
     "output_type": "stream",
     "text": [
      "                   all        449       1957      0.959      0.906      0.945      0.649\n"
     ]
    },
    {
     "name": "stderr",
     "output_type": "stream",
     "text": [
      "\n"
     ]
    },
    {
     "name": "stdout",
     "output_type": "stream",
     "text": [
      "\n",
      "      Epoch    GPU_mem   box_loss   cls_loss   dfl_loss  Instances       Size\n"
     ]
    },
    {
     "name": "stderr",
     "output_type": "stream",
     "text": [
      "      10/10         0G      1.253     0.6346     0.9595         47        416: 100%|██████████| 131/131 [04:19<00:00,  1.98s/it]\n",
      "                 Class     Images  Instances      Box(P          R      mAP50  mAP50-95): 100%|██████████| 15/15 [00:24<00:00,  1.66s/it]"
     ]
    },
    {
     "name": "stdout",
     "output_type": "stream",
     "text": [
      "                   all        449       1957      0.958      0.911      0.947      0.663\n"
     ]
    },
    {
     "name": "stderr",
     "output_type": "stream",
     "text": [
      "\n"
     ]
    },
    {
     "name": "stdout",
     "output_type": "stream",
     "text": [
      "\n",
      "10 epochs completed in 0.810 hours.\n",
      "Optimizer stripped from runs\\detect\\train6\\weights\\last.pt, 6.2MB\n",
      "Optimizer stripped from runs\\detect\\train6\\weights\\best.pt, 6.2MB\n",
      "\n",
      "Validating runs\\detect\\train6\\weights\\best.pt...\n",
      "Ultralytics 8.3.26  Python-3.11.1 torch-2.5.1+cpu CPU (Intel Core(TM) i7-8750H 2.20GHz)\n",
      "Model summary (fused): 168 layers, 3,006,038 parameters, 0 gradients, 8.1 GFLOPs\n"
     ]
    },
    {
     "name": "stderr",
     "output_type": "stream",
     "text": [
      "                 Class     Images  Instances      Box(P          R      mAP50  mAP50-95): 100%|██████████| 15/15 [00:20<00:00,  1.36s/it]\n"
     ]
    },
    {
     "name": "stdout",
     "output_type": "stream",
     "text": [
      "                   all        449       1957      0.958      0.911      0.947      0.663\n",
      "              airplane        149       1957      0.958      0.911      0.947      0.663\n",
      "Speed: 0.8ms preprocess, 33.9ms inference, 0.0ms loss, 0.2ms postprocess per image\n",
      "Results saved to \u001b[1mruns\\detect\\train6\u001b[0m\n"
     ]
    },
    {
     "data": {
      "text/plain": [
       "ultralytics.utils.metrics.DetMetrics object with attributes:\n",
       "\n",
       "ap_class_index: array([0])\n",
       "box: ultralytics.utils.metrics.Metric object\n",
       "confusion_matrix: <ultralytics.utils.metrics.ConfusionMatrix object at 0x00000225BAD7EBD0>\n",
       "curves: ['Precision-Recall(B)', 'F1-Confidence(B)', 'Precision-Confidence(B)', 'Recall-Confidence(B)']\n",
       "curves_results: [[array([          0,    0.001001,    0.002002,    0.003003,    0.004004,    0.005005,    0.006006,    0.007007,    0.008008,    0.009009,     0.01001,    0.011011,    0.012012,    0.013013,    0.014014,    0.015015,    0.016016,    0.017017,    0.018018,    0.019019,     0.02002,    0.021021,    0.022022,    0.023023,\n",
       "          0.024024,    0.025025,    0.026026,    0.027027,    0.028028,    0.029029,     0.03003,    0.031031,    0.032032,    0.033033,    0.034034,    0.035035,    0.036036,    0.037037,    0.038038,    0.039039,     0.04004,    0.041041,    0.042042,    0.043043,    0.044044,    0.045045,    0.046046,    0.047047,\n",
       "          0.048048,    0.049049,     0.05005,    0.051051,    0.052052,    0.053053,    0.054054,    0.055055,    0.056056,    0.057057,    0.058058,    0.059059,     0.06006,    0.061061,    0.062062,    0.063063,    0.064064,    0.065065,    0.066066,    0.067067,    0.068068,    0.069069,     0.07007,    0.071071,\n",
       "          0.072072,    0.073073,    0.074074,    0.075075,    0.076076,    0.077077,    0.078078,    0.079079,     0.08008,    0.081081,    0.082082,    0.083083,    0.084084,    0.085085,    0.086086,    0.087087,    0.088088,    0.089089,     0.09009,    0.091091,    0.092092,    0.093093,    0.094094,    0.095095,\n",
       "          0.096096,    0.097097,    0.098098,    0.099099,      0.1001,      0.1011,      0.1021,      0.1031,      0.1041,     0.10511,     0.10611,     0.10711,     0.10811,     0.10911,     0.11011,     0.11111,     0.11211,     0.11311,     0.11411,     0.11512,     0.11612,     0.11712,     0.11812,     0.11912,\n",
       "           0.12012,     0.12112,     0.12212,     0.12312,     0.12412,     0.12513,     0.12613,     0.12713,     0.12813,     0.12913,     0.13013,     0.13113,     0.13213,     0.13313,     0.13413,     0.13514,     0.13614,     0.13714,     0.13814,     0.13914,     0.14014,     0.14114,     0.14214,     0.14314,\n",
       "           0.14414,     0.14515,     0.14615,     0.14715,     0.14815,     0.14915,     0.15015,     0.15115,     0.15215,     0.15315,     0.15415,     0.15516,     0.15616,     0.15716,     0.15816,     0.15916,     0.16016,     0.16116,     0.16216,     0.16316,     0.16416,     0.16517,     0.16617,     0.16717,\n",
       "           0.16817,     0.16917,     0.17017,     0.17117,     0.17217,     0.17317,     0.17417,     0.17518,     0.17618,     0.17718,     0.17818,     0.17918,     0.18018,     0.18118,     0.18218,     0.18318,     0.18418,     0.18519,     0.18619,     0.18719,     0.18819,     0.18919,     0.19019,     0.19119,\n",
       "           0.19219,     0.19319,     0.19419,      0.1952,      0.1962,      0.1972,      0.1982,      0.1992,      0.2002,      0.2012,      0.2022,      0.2032,      0.2042,     0.20521,     0.20621,     0.20721,     0.20821,     0.20921,     0.21021,     0.21121,     0.21221,     0.21321,     0.21421,     0.21522,\n",
       "           0.21622,     0.21722,     0.21822,     0.21922,     0.22022,     0.22122,     0.22222,     0.22322,     0.22422,     0.22523,     0.22623,     0.22723,     0.22823,     0.22923,     0.23023,     0.23123,     0.23223,     0.23323,     0.23423,     0.23524,     0.23624,     0.23724,     0.23824,     0.23924,\n",
       "           0.24024,     0.24124,     0.24224,     0.24324,     0.24424,     0.24525,     0.24625,     0.24725,     0.24825,     0.24925,     0.25025,     0.25125,     0.25225,     0.25325,     0.25425,     0.25526,     0.25626,     0.25726,     0.25826,     0.25926,     0.26026,     0.26126,     0.26226,     0.26326,\n",
       "           0.26426,     0.26527,     0.26627,     0.26727,     0.26827,     0.26927,     0.27027,     0.27127,     0.27227,     0.27327,     0.27427,     0.27528,     0.27628,     0.27728,     0.27828,     0.27928,     0.28028,     0.28128,     0.28228,     0.28328,     0.28428,     0.28529,     0.28629,     0.28729,\n",
       "           0.28829,     0.28929,     0.29029,     0.29129,     0.29229,     0.29329,     0.29429,      0.2953,      0.2963,      0.2973,      0.2983,      0.2993,      0.3003,      0.3013,      0.3023,      0.3033,      0.3043,     0.30531,     0.30631,     0.30731,     0.30831,     0.30931,     0.31031,     0.31131,\n",
       "           0.31231,     0.31331,     0.31431,     0.31532,     0.31632,     0.31732,     0.31832,     0.31932,     0.32032,     0.32132,     0.32232,     0.32332,     0.32432,     0.32533,     0.32633,     0.32733,     0.32833,     0.32933,     0.33033,     0.33133,     0.33233,     0.33333,     0.33433,     0.33534,\n",
       "           0.33634,     0.33734,     0.33834,     0.33934,     0.34034,     0.34134,     0.34234,     0.34334,     0.34434,     0.34535,     0.34635,     0.34735,     0.34835,     0.34935,     0.35035,     0.35135,     0.35235,     0.35335,     0.35435,     0.35536,     0.35636,     0.35736,     0.35836,     0.35936,\n",
       "           0.36036,     0.36136,     0.36236,     0.36336,     0.36436,     0.36537,     0.36637,     0.36737,     0.36837,     0.36937,     0.37037,     0.37137,     0.37237,     0.37337,     0.37437,     0.37538,     0.37638,     0.37738,     0.37838,     0.37938,     0.38038,     0.38138,     0.38238,     0.38338,\n",
       "           0.38438,     0.38539,     0.38639,     0.38739,     0.38839,     0.38939,     0.39039,     0.39139,     0.39239,     0.39339,     0.39439,      0.3954,      0.3964,      0.3974,      0.3984,      0.3994,      0.4004,      0.4014,      0.4024,      0.4034,      0.4044,     0.40541,     0.40641,     0.40741,\n",
       "           0.40841,     0.40941,     0.41041,     0.41141,     0.41241,     0.41341,     0.41441,     0.41542,     0.41642,     0.41742,     0.41842,     0.41942,     0.42042,     0.42142,     0.42242,     0.42342,     0.42442,     0.42543,     0.42643,     0.42743,     0.42843,     0.42943,     0.43043,     0.43143,\n",
       "           0.43243,     0.43343,     0.43443,     0.43544,     0.43644,     0.43744,     0.43844,     0.43944,     0.44044,     0.44144,     0.44244,     0.44344,     0.44444,     0.44545,     0.44645,     0.44745,     0.44845,     0.44945,     0.45045,     0.45145,     0.45245,     0.45345,     0.45445,     0.45546,\n",
       "           0.45646,     0.45746,     0.45846,     0.45946,     0.46046,     0.46146,     0.46246,     0.46346,     0.46446,     0.46547,     0.46647,     0.46747,     0.46847,     0.46947,     0.47047,     0.47147,     0.47247,     0.47347,     0.47447,     0.47548,     0.47648,     0.47748,     0.47848,     0.47948,\n",
       "           0.48048,     0.48148,     0.48248,     0.48348,     0.48448,     0.48549,     0.48649,     0.48749,     0.48849,     0.48949,     0.49049,     0.49149,     0.49249,     0.49349,     0.49449,      0.4955,      0.4965,      0.4975,      0.4985,      0.4995,      0.5005,      0.5015,      0.5025,      0.5035,\n",
       "            0.5045,     0.50551,     0.50651,     0.50751,     0.50851,     0.50951,     0.51051,     0.51151,     0.51251,     0.51351,     0.51451,     0.51552,     0.51652,     0.51752,     0.51852,     0.51952,     0.52052,     0.52152,     0.52252,     0.52352,     0.52452,     0.52553,     0.52653,     0.52753,\n",
       "           0.52853,     0.52953,     0.53053,     0.53153,     0.53253,     0.53353,     0.53453,     0.53554,     0.53654,     0.53754,     0.53854,     0.53954,     0.54054,     0.54154,     0.54254,     0.54354,     0.54454,     0.54555,     0.54655,     0.54755,     0.54855,     0.54955,     0.55055,     0.55155,\n",
       "           0.55255,     0.55355,     0.55455,     0.55556,     0.55656,     0.55756,     0.55856,     0.55956,     0.56056,     0.56156,     0.56256,     0.56356,     0.56456,     0.56557,     0.56657,     0.56757,     0.56857,     0.56957,     0.57057,     0.57157,     0.57257,     0.57357,     0.57457,     0.57558,\n",
       "           0.57658,     0.57758,     0.57858,     0.57958,     0.58058,     0.58158,     0.58258,     0.58358,     0.58458,     0.58559,     0.58659,     0.58759,     0.58859,     0.58959,     0.59059,     0.59159,     0.59259,     0.59359,     0.59459,      0.5956,      0.5966,      0.5976,      0.5986,      0.5996,\n",
       "            0.6006,      0.6016,      0.6026,      0.6036,      0.6046,     0.60561,     0.60661,     0.60761,     0.60861,     0.60961,     0.61061,     0.61161,     0.61261,     0.61361,     0.61461,     0.61562,     0.61662,     0.61762,     0.61862,     0.61962,     0.62062,     0.62162,     0.62262,     0.62362,\n",
       "           0.62462,     0.62563,     0.62663,     0.62763,     0.62863,     0.62963,     0.63063,     0.63163,     0.63263,     0.63363,     0.63463,     0.63564,     0.63664,     0.63764,     0.63864,     0.63964,     0.64064,     0.64164,     0.64264,     0.64364,     0.64464,     0.64565,     0.64665,     0.64765,\n",
       "           0.64865,     0.64965,     0.65065,     0.65165,     0.65265,     0.65365,     0.65465,     0.65566,     0.65666,     0.65766,     0.65866,     0.65966,     0.66066,     0.66166,     0.66266,     0.66366,     0.66466,     0.66567,     0.66667,     0.66767,     0.66867,     0.66967,     0.67067,     0.67167,\n",
       "           0.67267,     0.67367,     0.67467,     0.67568,     0.67668,     0.67768,     0.67868,     0.67968,     0.68068,     0.68168,     0.68268,     0.68368,     0.68468,     0.68569,     0.68669,     0.68769,     0.68869,     0.68969,     0.69069,     0.69169,     0.69269,     0.69369,     0.69469,      0.6957,\n",
       "            0.6967,      0.6977,      0.6987,      0.6997,      0.7007,      0.7017,      0.7027,      0.7037,      0.7047,     0.70571,     0.70671,     0.70771,     0.70871,     0.70971,     0.71071,     0.71171,     0.71271,     0.71371,     0.71471,     0.71572,     0.71672,     0.71772,     0.71872,     0.71972,\n",
       "           0.72072,     0.72172,     0.72272,     0.72372,     0.72472,     0.72573,     0.72673,     0.72773,     0.72873,     0.72973,     0.73073,     0.73173,     0.73273,     0.73373,     0.73473,     0.73574,     0.73674,     0.73774,     0.73874,     0.73974,     0.74074,     0.74174,     0.74274,     0.74374,\n",
       "           0.74474,     0.74575,     0.74675,     0.74775,     0.74875,     0.74975,     0.75075,     0.75175,     0.75275,     0.75375,     0.75475,     0.75576,     0.75676,     0.75776,     0.75876,     0.75976,     0.76076,     0.76176,     0.76276,     0.76376,     0.76476,     0.76577,     0.76677,     0.76777,\n",
       "           0.76877,     0.76977,     0.77077,     0.77177,     0.77277,     0.77377,     0.77477,     0.77578,     0.77678,     0.77778,     0.77878,     0.77978,     0.78078,     0.78178,     0.78278,     0.78378,     0.78478,     0.78579,     0.78679,     0.78779,     0.78879,     0.78979,     0.79079,     0.79179,\n",
       "           0.79279,     0.79379,     0.79479,      0.7958,      0.7968,      0.7978,      0.7988,      0.7998,      0.8008,      0.8018,      0.8028,      0.8038,      0.8048,     0.80581,     0.80681,     0.80781,     0.80881,     0.80981,     0.81081,     0.81181,     0.81281,     0.81381,     0.81481,     0.81582,\n",
       "           0.81682,     0.81782,     0.81882,     0.81982,     0.82082,     0.82182,     0.82282,     0.82382,     0.82482,     0.82583,     0.82683,     0.82783,     0.82883,     0.82983,     0.83083,     0.83183,     0.83283,     0.83383,     0.83483,     0.83584,     0.83684,     0.83784,     0.83884,     0.83984,\n",
       "           0.84084,     0.84184,     0.84284,     0.84384,     0.84484,     0.84585,     0.84685,     0.84785,     0.84885,     0.84985,     0.85085,     0.85185,     0.85285,     0.85385,     0.85485,     0.85586,     0.85686,     0.85786,     0.85886,     0.85986,     0.86086,     0.86186,     0.86286,     0.86386,\n",
       "           0.86486,     0.86587,     0.86687,     0.86787,     0.86887,     0.86987,     0.87087,     0.87187,     0.87287,     0.87387,     0.87487,     0.87588,     0.87688,     0.87788,     0.87888,     0.87988,     0.88088,     0.88188,     0.88288,     0.88388,     0.88488,     0.88589,     0.88689,     0.88789,\n",
       "           0.88889,     0.88989,     0.89089,     0.89189,     0.89289,     0.89389,     0.89489,      0.8959,      0.8969,      0.8979,      0.8989,      0.8999,      0.9009,      0.9019,      0.9029,      0.9039,      0.9049,     0.90591,     0.90691,     0.90791,     0.90891,     0.90991,     0.91091,     0.91191,\n",
       "           0.91291,     0.91391,     0.91491,     0.91592,     0.91692,     0.91792,     0.91892,     0.91992,     0.92092,     0.92192,     0.92292,     0.92392,     0.92492,     0.92593,     0.92693,     0.92793,     0.92893,     0.92993,     0.93093,     0.93193,     0.93293,     0.93393,     0.93493,     0.93594,\n",
       "           0.93694,     0.93794,     0.93894,     0.93994,     0.94094,     0.94194,     0.94294,     0.94394,     0.94494,     0.94595,     0.94695,     0.94795,     0.94895,     0.94995,     0.95095,     0.95195,     0.95295,     0.95395,     0.95495,     0.95596,     0.95696,     0.95796,     0.95896,     0.95996,\n",
       "           0.96096,     0.96196,     0.96296,     0.96396,     0.96496,     0.96597,     0.96697,     0.96797,     0.96897,     0.96997,     0.97097,     0.97197,     0.97297,     0.97397,     0.97497,     0.97598,     0.97698,     0.97798,     0.97898,     0.97998,     0.98098,     0.98198,     0.98298,     0.98398,\n",
       "           0.98498,     0.98599,     0.98699,     0.98799,     0.98899,     0.98999,     0.99099,     0.99199,     0.99299,     0.99399,     0.99499,       0.996,       0.997,       0.998,       0.999,           1]), array([[          1,           1,           1,           1,           1,           1,           1,           1,           1,           1,           1,           1,           1,           1,           1,           1,           1,           1,           1,           1,           1,           1,           1,\n",
       "                  1,           1,           1,           1,           1,           1,           1,           1,           1,           1,           1,           1,           1,           1,           1,           1,           1,           1,           1,           1,           1,           1,           1,\n",
       "                  1,           1,           1,           1,           1,           1,           1,           1,           1,           1,           1,           1,           1,           1,           1,           1,           1,           1,           1,           1,           1,           1,           1,\n",
       "                  1,           1,           1,           1,           1,           1,           1,           1,           1,           1,           1,           1,           1,           1,           1,           1,           1,           1,           1,           1,           1,           1,           1,\n",
       "                  1,           1,           1,           1,           1,           1,           1,           1,           1,           1,           1,           1,           1,           1,           1,           1,           1,           1,           1,           1,           1,           1,           1,\n",
       "                  1,           1,           1,           1,           1,           1,           1,           1,           1,           1,           1,           1,           1,           1,           1,           1,           1,           1,           1,           1,           1,           1,           1,\n",
       "                  1,           1,           1,           1,           1,           1,           1,           1,           1,           1,           1,           1,           1,           1,           1,           1,           1,           1,           1,           1,           1,           1,           1,\n",
       "                  1,           1,           1,           1,           1,           1,           1,           1,           1,           1,           1,           1,           1,           1,           1,           1,           1,           1,           1,           1,           1,           1,           1,\n",
       "                  1,           1,           1,           1,           1,           1,           1,           1,           1,           1,           1,           1,           1,           1,           1,           1,           1,           1,           1,           1,           1,           1,           1,\n",
       "                  1,           1,           1,           1,           1,           1,           1,           1,           1,           1,           1,           1,           1,           1,           1,           1,           1,           1,           1,           1,           1,           1,           1,\n",
       "                  1,           1,           1,           1,           1,           1,           1,           1,           1,           1,           1,           1,           1,           1,           1,           1,           1,           1,           1,           1,           1,           1,           1,\n",
       "                  1,           1,           1,           1,           1,           1,           1,           1,           1,           1,           1,           1,           1,           1,           1,           1,           1,           1,           1,           1,           1,           1,           1,\n",
       "                  1,           1,           1,           1,           1,           1,           1,           1,           1,           1,           1,           1,           1,           1,           1,           1,           1,           1,           1,           1,           1,           1,           1,\n",
       "                  1,           1,           1,           1,           1,           1,           1,           1,           1,           1,           1,           1,     0.99837,     0.99837,     0.99765,     0.99765,     0.99765,     0.99765,     0.99765,     0.99765,     0.99765,     0.99765,     0.99765,\n",
       "            0.99765,     0.99765,     0.99765,     0.99765,     0.99765,     0.99765,     0.99765,     0.99765,     0.99765,     0.99765,     0.99765,     0.99765,     0.99765,     0.99765,     0.99765,     0.99765,     0.99765,     0.99765,     0.99765,     0.99765,     0.99765,     0.99765,     0.99765,\n",
       "            0.99765,     0.99765,     0.99765,     0.99765,     0.99765,     0.99765,     0.99765,     0.99765,     0.99765,     0.99765,     0.99765,     0.99765,     0.99765,     0.99765,     0.99765,     0.99765,     0.99765,     0.99765,     0.99765,     0.99765,     0.99765,     0.99765,     0.99765,\n",
       "            0.99765,     0.99765,     0.99765,     0.99765,     0.99765,     0.99765,     0.99765,     0.99765,     0.99765,     0.99765,     0.99765,     0.99765,     0.99765,     0.99765,     0.99765,     0.99765,     0.99765,     0.99765,     0.99765,     0.99765,     0.99765,     0.99765,     0.99765,\n",
       "            0.99765,     0.99765,     0.99765,     0.99765,     0.99765,     0.99765,     0.99765,     0.99765,     0.99765,     0.99765,     0.99765,     0.99765,     0.99765,     0.99765,     0.99765,     0.99765,     0.99765,     0.99765,     0.99765,     0.99765,     0.99765,     0.99765,     0.99765,\n",
       "            0.99765,     0.99765,     0.99765,     0.99765,     0.99765,     0.99765,     0.99765,     0.99765,     0.99765,     0.99765,     0.99765,     0.99765,     0.99765,     0.99765,     0.99765,     0.99765,     0.99765,     0.99765,     0.99765,     0.99662,     0.99662,     0.99662,     0.99662,\n",
       "            0.99662,     0.99662,     0.99662,     0.99662,     0.99662,     0.99662,     0.99662,     0.99662,     0.99662,     0.99662,     0.99662,     0.99662,     0.99662,     0.99662,     0.99662,     0.99604,     0.99604,     0.99604,     0.99604,     0.99604,     0.99604,     0.99604,     0.99604,\n",
       "            0.99604,     0.99604,     0.99604,     0.99604,     0.99604,     0.99604,     0.99604,     0.99604,     0.99604,     0.99604,     0.99604,     0.99604,     0.99604,     0.99604,     0.99604,     0.99604,     0.99604,     0.99604,     0.99604,     0.99604,     0.99604,     0.99604,     0.99604,\n",
       "            0.99604,     0.99604,     0.99604,     0.99604,     0.99604,     0.99604,     0.99604,     0.99604,     0.99604,     0.99604,     0.99604,     0.99604,     0.99604,     0.99604,     0.99604,     0.99604,     0.99604,     0.99604,     0.99604,     0.99604,     0.99604,     0.99604,     0.99604,\n",
       "            0.99604,     0.99604,     0.99604,     0.99604,     0.99604,     0.99604,     0.99604,     0.99604,     0.99511,     0.99511,     0.99511,     0.99511,     0.99511,     0.99511,     0.99427,     0.99427,     0.99427,     0.99427,     0.99427,     0.99427,     0.99427,     0.99427,     0.99427,\n",
       "            0.99427,     0.99427,     0.99427,     0.99368,     0.99368,     0.99368,     0.99368,     0.99368,     0.99368,     0.99368,     0.99368,     0.99368,     0.99368,     0.99368,     0.99368,     0.99368,     0.99368,     0.99368,     0.99368,     0.99368,     0.99368,     0.99368,     0.99368,\n",
       "            0.99368,     0.99368,     0.99368,     0.99368,     0.99368,     0.99368,     0.99368,     0.99368,     0.99368,     0.99368,     0.99306,     0.99306,     0.99306,     0.99306,     0.99306,     0.99306,     0.99306,     0.99306,     0.99306,     0.99306,     0.99306,     0.99306,     0.99306,\n",
       "            0.99306,     0.99306,     0.99306,     0.99306,     0.99306,     0.99306,     0.99306,     0.99306,     0.99306,     0.99306,     0.99228,     0.99228,     0.99228,     0.99228,     0.99228,     0.99228,     0.99199,     0.99199,     0.99199,     0.99199,     0.99199,     0.99199,     0.99199,\n",
       "            0.99199,     0.99199,     0.99199,     0.99199,     0.99199,     0.99199,     0.99199,     0.99199,     0.99199,     0.99199,     0.99199,     0.99199,     0.99199,     0.99199,     0.99199,     0.99199,     0.99199,     0.99199,     0.99199,     0.99199,     0.99199,     0.99199,     0.99199,\n",
       "            0.99199,     0.99199,     0.99199,     0.99199,     0.99199,     0.99199,     0.99199,     0.99199,     0.99199,     0.99199,     0.99199,     0.99199,     0.99132,     0.99132,     0.99132,     0.99132,     0.99132,     0.99132,     0.99132,     0.99132,     0.99132,     0.99065,     0.99065,\n",
       "            0.99065,     0.99065,     0.99065,     0.99065,     0.99065,     0.99065,     0.99005,     0.99005,     0.99005,     0.99005,     0.99005,     0.99005,     0.99005,     0.99005,     0.99005,     0.99005,     0.99005,      0.9893,      0.9887,      0.9887,      0.9887,      0.9887,      0.9887,\n",
       "             0.9887,      0.9887,      0.9887,     0.98849,     0.98849,     0.98849,     0.98849,     0.98849,     0.98849,     0.98849,     0.98849,     0.98849,     0.98849,     0.98849,     0.98849,     0.98849,     0.98849,     0.98849,     0.98849,     0.98849,     0.98849,     0.98849,     0.98849,\n",
       "            0.98849,     0.98849,     0.98849,     0.98849,     0.98849,     0.98849,     0.98849,     0.98849,     0.98849,     0.98849,     0.98849,     0.98849,      0.9878,     0.98712,     0.98645,     0.98645,     0.98593,     0.98593,     0.98593,     0.98593,     0.98593,     0.98593,     0.98593,\n",
       "            0.98593,     0.98593,     0.98593,     0.98525,      0.9846,      0.9846,     0.98415,     0.98415,     0.98415,     0.98415,     0.98415,     0.98415,     0.98415,     0.98415,     0.98415,     0.98415,      0.9836,      0.9836,      0.9836,      0.9836,      0.9836,      0.9836,     0.98309,\n",
       "            0.98309,     0.98309,     0.98309,     0.98309,     0.98309,     0.98309,     0.98278,     0.98278,     0.98278,     0.98278,     0.98278,     0.98278,     0.98278,     0.98278,     0.98278,     0.98278,     0.98278,     0.98278,     0.98278,     0.98278,     0.98278,     0.98278,     0.98198,\n",
       "            0.98198,     0.98198,     0.98198,     0.98198,     0.98198,     0.98198,     0.98198,     0.98198,     0.98198,     0.98198,     0.98198,     0.98198,     0.98198,     0.98198,     0.98198,     0.98198,     0.98198,     0.98198,     0.98198,     0.98198,     0.98143,     0.98143,     0.98143,\n",
       "            0.98143,     0.98102,     0.98102,     0.98102,     0.98102,     0.98102,     0.98102,     0.98102,     0.98102,     0.98102,      0.9806,      0.9806,      0.9806,      0.9806,      0.9806,      0.9806,      0.9806,      0.9806,     0.98048,     0.98048,     0.98048,     0.98048,     0.98048,\n",
       "            0.98048,     0.98048,     0.98048,     0.98048,     0.98048,     0.98048,     0.98048,     0.98048,     0.98048,     0.98048,     0.98048,     0.98048,     0.98048,     0.98048,     0.98048,     0.98048,     0.98008,     0.98008,     0.98008,     0.98008,     0.98008,     0.98008,     0.98008,\n",
       "            0.98008,     0.98008,     0.97958,     0.97958,     0.97958,     0.97902,     0.97851,     0.97851,     0.97851,     0.97805,     0.97805,     0.97805,     0.97805,     0.97805,     0.97755,     0.97755,     0.97755,     0.97705,     0.97705,     0.97705,     0.97655,     0.97655,     0.97655,\n",
       "            0.97623,     0.97623,     0.97623,     0.97623,     0.97623,     0.97623,     0.97623,     0.97623,     0.97623,     0.97589,     0.97589,     0.97589,     0.97589,     0.97589,     0.97589,     0.97589,     0.97589,     0.97537,     0.97537,     0.97436,     0.97436,     0.97436,     0.97398,\n",
       "            0.97398,     0.97398,     0.97398,     0.97398,     0.97398,     0.97398,     0.97346,     0.97296,     0.97256,     0.97256,     0.97256,     0.97256,     0.97256,     0.97204,     0.96993,     0.96993,     0.96891,     0.96839,     0.96687,     0.96687,     0.96643,     0.96643,     0.96643,\n",
       "            0.96552,     0.96552,     0.96552,     0.96552,     0.96456,     0.96456,     0.96456,     0.96198,     0.95948,     0.95948,     0.95901,     0.95856,     0.95856,     0.95398,     0.94326,     0.93254,     0.92182,      0.9111,     0.90038,     0.88967,     0.87895,     0.86823,     0.85751,\n",
       "            0.84679,     0.83607,     0.82535,     0.81463,     0.80391,      0.7932,     0.78248,     0.77176,     0.76104,     0.75032,      0.7396,     0.72888,     0.71816,     0.70744,     0.69673,     0.68601,     0.67529,     0.66457,     0.65385,     0.64313,     0.63241,     0.62169,     0.61098,\n",
       "            0.60026,     0.58954,     0.57882,      0.5681,     0.55738,     0.54666,     0.53594,     0.52522,     0.51451,     0.50379,     0.49307,     0.48235,     0.47163,     0.46091,     0.45019,     0.43947,     0.42875,     0.41804,     0.40732,      0.3966,     0.38588,     0.37516,     0.36444,\n",
       "            0.35372,       0.343,     0.33228,     0.32157,     0.31085,     0.30013,     0.28941,     0.27869,     0.26797,     0.25725,     0.24653,     0.23581,      0.2251,     0.21438,     0.20366,     0.19294,     0.18222,      0.1715,     0.16078,     0.15006,     0.13935,     0.12863,     0.11791,\n",
       "            0.10719,     0.09647,    0.085751,    0.075032,    0.064313,    0.053594,    0.042875,    0.032157,    0.021438,    0.010719,           0]]), 'Recall', 'Precision'], [array([          0,    0.001001,    0.002002,    0.003003,    0.004004,    0.005005,    0.006006,    0.007007,    0.008008,    0.009009,     0.01001,    0.011011,    0.012012,    0.013013,    0.014014,    0.015015,    0.016016,    0.017017,    0.018018,    0.019019,     0.02002,    0.021021,    0.022022,    0.023023,\n",
       "          0.024024,    0.025025,    0.026026,    0.027027,    0.028028,    0.029029,     0.03003,    0.031031,    0.032032,    0.033033,    0.034034,    0.035035,    0.036036,    0.037037,    0.038038,    0.039039,     0.04004,    0.041041,    0.042042,    0.043043,    0.044044,    0.045045,    0.046046,    0.047047,\n",
       "          0.048048,    0.049049,     0.05005,    0.051051,    0.052052,    0.053053,    0.054054,    0.055055,    0.056056,    0.057057,    0.058058,    0.059059,     0.06006,    0.061061,    0.062062,    0.063063,    0.064064,    0.065065,    0.066066,    0.067067,    0.068068,    0.069069,     0.07007,    0.071071,\n",
       "          0.072072,    0.073073,    0.074074,    0.075075,    0.076076,    0.077077,    0.078078,    0.079079,     0.08008,    0.081081,    0.082082,    0.083083,    0.084084,    0.085085,    0.086086,    0.087087,    0.088088,    0.089089,     0.09009,    0.091091,    0.092092,    0.093093,    0.094094,    0.095095,\n",
       "          0.096096,    0.097097,    0.098098,    0.099099,      0.1001,      0.1011,      0.1021,      0.1031,      0.1041,     0.10511,     0.10611,     0.10711,     0.10811,     0.10911,     0.11011,     0.11111,     0.11211,     0.11311,     0.11411,     0.11512,     0.11612,     0.11712,     0.11812,     0.11912,\n",
       "           0.12012,     0.12112,     0.12212,     0.12312,     0.12412,     0.12513,     0.12613,     0.12713,     0.12813,     0.12913,     0.13013,     0.13113,     0.13213,     0.13313,     0.13413,     0.13514,     0.13614,     0.13714,     0.13814,     0.13914,     0.14014,     0.14114,     0.14214,     0.14314,\n",
       "           0.14414,     0.14515,     0.14615,     0.14715,     0.14815,     0.14915,     0.15015,     0.15115,     0.15215,     0.15315,     0.15415,     0.15516,     0.15616,     0.15716,     0.15816,     0.15916,     0.16016,     0.16116,     0.16216,     0.16316,     0.16416,     0.16517,     0.16617,     0.16717,\n",
       "           0.16817,     0.16917,     0.17017,     0.17117,     0.17217,     0.17317,     0.17417,     0.17518,     0.17618,     0.17718,     0.17818,     0.17918,     0.18018,     0.18118,     0.18218,     0.18318,     0.18418,     0.18519,     0.18619,     0.18719,     0.18819,     0.18919,     0.19019,     0.19119,\n",
       "           0.19219,     0.19319,     0.19419,      0.1952,      0.1962,      0.1972,      0.1982,      0.1992,      0.2002,      0.2012,      0.2022,      0.2032,      0.2042,     0.20521,     0.20621,     0.20721,     0.20821,     0.20921,     0.21021,     0.21121,     0.21221,     0.21321,     0.21421,     0.21522,\n",
       "           0.21622,     0.21722,     0.21822,     0.21922,     0.22022,     0.22122,     0.22222,     0.22322,     0.22422,     0.22523,     0.22623,     0.22723,     0.22823,     0.22923,     0.23023,     0.23123,     0.23223,     0.23323,     0.23423,     0.23524,     0.23624,     0.23724,     0.23824,     0.23924,\n",
       "           0.24024,     0.24124,     0.24224,     0.24324,     0.24424,     0.24525,     0.24625,     0.24725,     0.24825,     0.24925,     0.25025,     0.25125,     0.25225,     0.25325,     0.25425,     0.25526,     0.25626,     0.25726,     0.25826,     0.25926,     0.26026,     0.26126,     0.26226,     0.26326,\n",
       "           0.26426,     0.26527,     0.26627,     0.26727,     0.26827,     0.26927,     0.27027,     0.27127,     0.27227,     0.27327,     0.27427,     0.27528,     0.27628,     0.27728,     0.27828,     0.27928,     0.28028,     0.28128,     0.28228,     0.28328,     0.28428,     0.28529,     0.28629,     0.28729,\n",
       "           0.28829,     0.28929,     0.29029,     0.29129,     0.29229,     0.29329,     0.29429,      0.2953,      0.2963,      0.2973,      0.2983,      0.2993,      0.3003,      0.3013,      0.3023,      0.3033,      0.3043,     0.30531,     0.30631,     0.30731,     0.30831,     0.30931,     0.31031,     0.31131,\n",
       "           0.31231,     0.31331,     0.31431,     0.31532,     0.31632,     0.31732,     0.31832,     0.31932,     0.32032,     0.32132,     0.32232,     0.32332,     0.32432,     0.32533,     0.32633,     0.32733,     0.32833,     0.32933,     0.33033,     0.33133,     0.33233,     0.33333,     0.33433,     0.33534,\n",
       "           0.33634,     0.33734,     0.33834,     0.33934,     0.34034,     0.34134,     0.34234,     0.34334,     0.34434,     0.34535,     0.34635,     0.34735,     0.34835,     0.34935,     0.35035,     0.35135,     0.35235,     0.35335,     0.35435,     0.35536,     0.35636,     0.35736,     0.35836,     0.35936,\n",
       "           0.36036,     0.36136,     0.36236,     0.36336,     0.36436,     0.36537,     0.36637,     0.36737,     0.36837,     0.36937,     0.37037,     0.37137,     0.37237,     0.37337,     0.37437,     0.37538,     0.37638,     0.37738,     0.37838,     0.37938,     0.38038,     0.38138,     0.38238,     0.38338,\n",
       "           0.38438,     0.38539,     0.38639,     0.38739,     0.38839,     0.38939,     0.39039,     0.39139,     0.39239,     0.39339,     0.39439,      0.3954,      0.3964,      0.3974,      0.3984,      0.3994,      0.4004,      0.4014,      0.4024,      0.4034,      0.4044,     0.40541,     0.40641,     0.40741,\n",
       "           0.40841,     0.40941,     0.41041,     0.41141,     0.41241,     0.41341,     0.41441,     0.41542,     0.41642,     0.41742,     0.41842,     0.41942,     0.42042,     0.42142,     0.42242,     0.42342,     0.42442,     0.42543,     0.42643,     0.42743,     0.42843,     0.42943,     0.43043,     0.43143,\n",
       "           0.43243,     0.43343,     0.43443,     0.43544,     0.43644,     0.43744,     0.43844,     0.43944,     0.44044,     0.44144,     0.44244,     0.44344,     0.44444,     0.44545,     0.44645,     0.44745,     0.44845,     0.44945,     0.45045,     0.45145,     0.45245,     0.45345,     0.45445,     0.45546,\n",
       "           0.45646,     0.45746,     0.45846,     0.45946,     0.46046,     0.46146,     0.46246,     0.46346,     0.46446,     0.46547,     0.46647,     0.46747,     0.46847,     0.46947,     0.47047,     0.47147,     0.47247,     0.47347,     0.47447,     0.47548,     0.47648,     0.47748,     0.47848,     0.47948,\n",
       "           0.48048,     0.48148,     0.48248,     0.48348,     0.48448,     0.48549,     0.48649,     0.48749,     0.48849,     0.48949,     0.49049,     0.49149,     0.49249,     0.49349,     0.49449,      0.4955,      0.4965,      0.4975,      0.4985,      0.4995,      0.5005,      0.5015,      0.5025,      0.5035,\n",
       "            0.5045,     0.50551,     0.50651,     0.50751,     0.50851,     0.50951,     0.51051,     0.51151,     0.51251,     0.51351,     0.51451,     0.51552,     0.51652,     0.51752,     0.51852,     0.51952,     0.52052,     0.52152,     0.52252,     0.52352,     0.52452,     0.52553,     0.52653,     0.52753,\n",
       "           0.52853,     0.52953,     0.53053,     0.53153,     0.53253,     0.53353,     0.53453,     0.53554,     0.53654,     0.53754,     0.53854,     0.53954,     0.54054,     0.54154,     0.54254,     0.54354,     0.54454,     0.54555,     0.54655,     0.54755,     0.54855,     0.54955,     0.55055,     0.55155,\n",
       "           0.55255,     0.55355,     0.55455,     0.55556,     0.55656,     0.55756,     0.55856,     0.55956,     0.56056,     0.56156,     0.56256,     0.56356,     0.56456,     0.56557,     0.56657,     0.56757,     0.56857,     0.56957,     0.57057,     0.57157,     0.57257,     0.57357,     0.57457,     0.57558,\n",
       "           0.57658,     0.57758,     0.57858,     0.57958,     0.58058,     0.58158,     0.58258,     0.58358,     0.58458,     0.58559,     0.58659,     0.58759,     0.58859,     0.58959,     0.59059,     0.59159,     0.59259,     0.59359,     0.59459,      0.5956,      0.5966,      0.5976,      0.5986,      0.5996,\n",
       "            0.6006,      0.6016,      0.6026,      0.6036,      0.6046,     0.60561,     0.60661,     0.60761,     0.60861,     0.60961,     0.61061,     0.61161,     0.61261,     0.61361,     0.61461,     0.61562,     0.61662,     0.61762,     0.61862,     0.61962,     0.62062,     0.62162,     0.62262,     0.62362,\n",
       "           0.62462,     0.62563,     0.62663,     0.62763,     0.62863,     0.62963,     0.63063,     0.63163,     0.63263,     0.63363,     0.63463,     0.63564,     0.63664,     0.63764,     0.63864,     0.63964,     0.64064,     0.64164,     0.64264,     0.64364,     0.64464,     0.64565,     0.64665,     0.64765,\n",
       "           0.64865,     0.64965,     0.65065,     0.65165,     0.65265,     0.65365,     0.65465,     0.65566,     0.65666,     0.65766,     0.65866,     0.65966,     0.66066,     0.66166,     0.66266,     0.66366,     0.66466,     0.66567,     0.66667,     0.66767,     0.66867,     0.66967,     0.67067,     0.67167,\n",
       "           0.67267,     0.67367,     0.67467,     0.67568,     0.67668,     0.67768,     0.67868,     0.67968,     0.68068,     0.68168,     0.68268,     0.68368,     0.68468,     0.68569,     0.68669,     0.68769,     0.68869,     0.68969,     0.69069,     0.69169,     0.69269,     0.69369,     0.69469,      0.6957,\n",
       "            0.6967,      0.6977,      0.6987,      0.6997,      0.7007,      0.7017,      0.7027,      0.7037,      0.7047,     0.70571,     0.70671,     0.70771,     0.70871,     0.70971,     0.71071,     0.71171,     0.71271,     0.71371,     0.71471,     0.71572,     0.71672,     0.71772,     0.71872,     0.71972,\n",
       "           0.72072,     0.72172,     0.72272,     0.72372,     0.72472,     0.72573,     0.72673,     0.72773,     0.72873,     0.72973,     0.73073,     0.73173,     0.73273,     0.73373,     0.73473,     0.73574,     0.73674,     0.73774,     0.73874,     0.73974,     0.74074,     0.74174,     0.74274,     0.74374,\n",
       "           0.74474,     0.74575,     0.74675,     0.74775,     0.74875,     0.74975,     0.75075,     0.75175,     0.75275,     0.75375,     0.75475,     0.75576,     0.75676,     0.75776,     0.75876,     0.75976,     0.76076,     0.76176,     0.76276,     0.76376,     0.76476,     0.76577,     0.76677,     0.76777,\n",
       "           0.76877,     0.76977,     0.77077,     0.77177,     0.77277,     0.77377,     0.77477,     0.77578,     0.77678,     0.77778,     0.77878,     0.77978,     0.78078,     0.78178,     0.78278,     0.78378,     0.78478,     0.78579,     0.78679,     0.78779,     0.78879,     0.78979,     0.79079,     0.79179,\n",
       "           0.79279,     0.79379,     0.79479,      0.7958,      0.7968,      0.7978,      0.7988,      0.7998,      0.8008,      0.8018,      0.8028,      0.8038,      0.8048,     0.80581,     0.80681,     0.80781,     0.80881,     0.80981,     0.81081,     0.81181,     0.81281,     0.81381,     0.81481,     0.81582,\n",
       "           0.81682,     0.81782,     0.81882,     0.81982,     0.82082,     0.82182,     0.82282,     0.82382,     0.82482,     0.82583,     0.82683,     0.82783,     0.82883,     0.82983,     0.83083,     0.83183,     0.83283,     0.83383,     0.83483,     0.83584,     0.83684,     0.83784,     0.83884,     0.83984,\n",
       "           0.84084,     0.84184,     0.84284,     0.84384,     0.84484,     0.84585,     0.84685,     0.84785,     0.84885,     0.84985,     0.85085,     0.85185,     0.85285,     0.85385,     0.85485,     0.85586,     0.85686,     0.85786,     0.85886,     0.85986,     0.86086,     0.86186,     0.86286,     0.86386,\n",
       "           0.86486,     0.86587,     0.86687,     0.86787,     0.86887,     0.86987,     0.87087,     0.87187,     0.87287,     0.87387,     0.87487,     0.87588,     0.87688,     0.87788,     0.87888,     0.87988,     0.88088,     0.88188,     0.88288,     0.88388,     0.88488,     0.88589,     0.88689,     0.88789,\n",
       "           0.88889,     0.88989,     0.89089,     0.89189,     0.89289,     0.89389,     0.89489,      0.8959,      0.8969,      0.8979,      0.8989,      0.8999,      0.9009,      0.9019,      0.9029,      0.9039,      0.9049,     0.90591,     0.90691,     0.90791,     0.90891,     0.90991,     0.91091,     0.91191,\n",
       "           0.91291,     0.91391,     0.91491,     0.91592,     0.91692,     0.91792,     0.91892,     0.91992,     0.92092,     0.92192,     0.92292,     0.92392,     0.92492,     0.92593,     0.92693,     0.92793,     0.92893,     0.92993,     0.93093,     0.93193,     0.93293,     0.93393,     0.93493,     0.93594,\n",
       "           0.93694,     0.93794,     0.93894,     0.93994,     0.94094,     0.94194,     0.94294,     0.94394,     0.94494,     0.94595,     0.94695,     0.94795,     0.94895,     0.94995,     0.95095,     0.95195,     0.95295,     0.95395,     0.95495,     0.95596,     0.95696,     0.95796,     0.95896,     0.95996,\n",
       "           0.96096,     0.96196,     0.96296,     0.96396,     0.96496,     0.96597,     0.96697,     0.96797,     0.96897,     0.96997,     0.97097,     0.97197,     0.97297,     0.97397,     0.97497,     0.97598,     0.97698,     0.97798,     0.97898,     0.97998,     0.98098,     0.98198,     0.98298,     0.98398,\n",
       "           0.98498,     0.98599,     0.98699,     0.98799,     0.98899,     0.98999,     0.99099,     0.99199,     0.99299,     0.99399,     0.99499,       0.996,       0.997,       0.998,       0.999,           1]), array([[    0.93347,     0.93347,     0.93347,     0.93347,     0.93347,     0.93347,     0.93347,     0.93347,     0.93347,     0.93347,     0.93347,     0.93347,     0.93347,     0.93347,     0.93347,     0.93347,     0.93347,     0.93347,     0.93347,     0.93347,     0.93347,     0.93347,     0.93347,\n",
       "            0.93347,     0.93347,     0.93347,     0.93347,     0.93347,     0.93347,     0.93347,     0.93347,     0.93347,     0.93347,     0.93347,     0.93347,     0.93347,     0.93347,     0.93347,     0.93347,     0.93347,     0.93347,     0.93347,     0.93347,     0.93347,     0.93347,     0.93347,\n",
       "            0.93347,     0.93347,     0.93347,     0.93347,     0.93347,     0.93347,     0.93347,     0.93347,     0.93347,     0.93347,     0.93347,     0.93347,     0.93347,     0.93347,     0.93347,     0.93347,     0.93347,     0.93347,     0.93347,     0.93347,     0.93347,     0.93347,     0.93347,\n",
       "            0.93347,     0.93347,     0.93347,     0.93347,     0.93347,     0.93347,     0.93347,     0.93347,     0.93347,     0.93347,     0.93347,     0.93347,     0.93347,     0.93347,     0.93347,     0.93347,     0.93347,     0.93347,     0.93347,     0.93347,     0.93347,     0.93347,     0.93347,\n",
       "            0.93347,     0.93347,     0.93347,     0.93347,     0.93347,     0.93347,     0.93347,     0.93347,     0.93347,     0.93347,     0.93347,     0.93347,     0.93347,     0.93347,     0.93347,     0.93347,     0.93347,     0.93347,     0.93347,     0.93347,     0.93347,     0.93347,     0.93347,\n",
       "            0.93347,     0.93347,     0.93347,     0.93347,     0.93347,     0.93347,     0.93347,     0.93347,     0.93347,     0.93347,     0.93347,     0.93347,     0.93347,     0.93347,     0.93347,     0.93347,     0.93347,     0.93347,     0.93347,     0.93347,     0.93347,     0.93347,     0.93347,\n",
       "            0.93347,     0.93347,     0.93347,     0.93347,     0.93347,     0.93347,     0.93347,     0.93347,     0.93347,     0.93347,     0.93347,     0.93347,     0.93347,     0.93347,     0.93347,     0.93347,     0.93347,     0.93347,     0.93347,     0.93347,     0.93347,     0.93347,     0.93347,\n",
       "            0.93347,     0.93347,     0.93347,     0.93347,     0.93347,     0.93347,     0.93347,     0.93347,     0.93347,     0.93347,     0.93347,     0.93347,     0.93347,     0.93347,     0.93347,     0.93347,     0.93347,     0.93347,     0.93347,     0.93347,     0.93347,     0.93347,     0.93347,\n",
       "            0.93347,     0.93347,     0.93347,     0.93347,     0.93347,     0.93347,     0.93347,     0.93347,     0.93347,     0.93347,     0.93347,     0.93347,     0.93347,     0.93347,     0.93347,     0.93347,     0.93347,     0.93347,     0.93347,     0.93347,     0.93347,     0.93347,     0.93347,\n",
       "            0.93347,     0.93347,     0.93347,     0.93347,     0.93347,     0.93347,     0.93347,     0.93347,     0.93347,     0.93347,     0.93347,     0.93347,     0.93347,     0.93347,     0.93347,     0.93347,     0.93347,     0.93347,     0.93347,     0.93347,     0.93347,     0.93347,     0.93347,\n",
       "            0.93347,     0.93347,     0.93347,     0.93347,     0.93347,     0.93347,     0.93347,     0.93347,     0.93347,     0.93347,     0.93347,     0.93347,     0.93347,     0.93347,     0.93347,     0.93347,     0.93347,     0.93347,     0.93347,     0.93347,     0.93347,     0.93347,     0.93347,\n",
       "            0.93347,     0.93347,     0.93347,     0.93347,     0.93347,     0.93347,     0.93347,     0.93347,     0.93347,     0.93347,     0.93347,     0.93347,     0.93347,     0.93347,     0.93347,     0.93347,     0.93347,     0.93347,     0.93347,     0.93347,     0.93347,     0.93347,     0.93347,\n",
       "            0.93347,     0.93347,     0.93347,     0.93347,     0.93347,     0.93347,     0.93347,     0.93347,     0.93347,     0.93347,     0.93347,     0.93347,     0.93347,     0.93347,     0.93347,     0.93347,     0.93347,     0.93347,     0.93347,     0.93347,     0.93347,     0.93347,     0.93347,\n",
       "            0.93347,     0.93347,     0.93347,     0.93347,     0.93347,     0.93347,     0.93347,     0.93347,     0.93347,     0.93347,     0.93347,     0.93347,     0.93347,     0.93347,     0.93347,     0.93347,     0.93347,     0.93347,     0.93347,     0.93347,     0.93347,     0.93347,     0.93347,\n",
       "            0.93347,     0.93347,     0.93347,     0.93347,     0.93347,     0.93347,     0.93347,     0.93347,     0.93347,     0.93347,     0.93347,     0.93347,     0.93347,     0.93347,     0.93347,     0.93347,     0.93347,     0.93347,     0.93347,     0.93347,     0.93347,     0.93347,     0.93347,\n",
       "            0.93347,     0.93347,     0.93347,     0.93347,     0.93347,     0.93347,     0.93347,     0.93347,     0.93347,     0.93347,     0.93347,     0.93347,     0.93347,     0.93347,     0.93347,     0.93347,     0.93347,     0.93347,     0.93347,     0.93347,     0.93347,     0.93347,     0.93347,\n",
       "            0.93347,     0.93347,     0.93347,     0.93347,     0.93347,     0.93347,     0.93347,     0.93347,     0.93347,     0.93347,     0.93347,     0.93347,     0.93347,     0.93347,     0.93347,     0.93347,     0.93347,     0.93347,     0.93347,     0.93347,     0.93347,     0.93347,     0.93347,\n",
       "            0.93347,     0.93347,     0.93347,     0.93347,     0.93347,     0.93347,     0.93347,     0.93347,     0.93347,     0.93347,     0.93347,     0.93347,     0.93347,     0.93347,     0.93347,     0.93347,     0.93347,     0.93347,     0.93347,     0.93347,     0.93347,     0.93347,     0.93347,\n",
       "            0.93347,     0.93347,     0.93347,     0.93347,     0.93347,     0.93347,     0.93347,     0.93347,     0.93347,     0.93347,     0.93347,     0.93347,     0.93347,     0.93347,     0.93347,     0.93347,     0.93347,     0.93347,     0.93347,     0.93347,     0.93347,     0.93347,     0.93347,\n",
       "            0.93347,     0.93347,     0.93347,     0.93347,     0.93347,     0.93347,     0.93347,     0.93347,     0.93347,     0.93347,     0.93347,     0.93347,     0.93347,     0.93347,     0.93347,     0.93347,     0.93347,     0.93347,     0.93347,     0.93347,     0.93347,     0.93347,     0.93347,\n",
       "            0.93347,     0.93347,     0.93347,     0.93347,     0.93347,     0.93347,     0.93347,     0.93347,     0.93347,     0.93347,     0.93347,     0.93347,     0.93347,     0.93347,     0.93347,     0.93347,     0.93347,     0.93347,     0.93347,     0.93347,     0.93347,     0.93347,     0.93347,\n",
       "            0.93347,     0.93347,     0.93347,     0.93347,     0.93347,     0.93347,     0.93347,     0.93347,     0.93347,     0.93347,     0.93347,     0.93347,     0.93347,     0.93347,     0.93347,     0.93347,     0.93347,     0.93347,     0.93347,     0.93353,     0.93364,     0.93368,     0.93355,\n",
       "            0.93348,     0.93335,     0.93303,     0.93296,     0.93265,     0.93276,     0.93267,     0.93257,     0.93247,     0.93238,     0.93228,     0.93205,     0.93171,     0.93179,     0.93187,     0.93182,     0.93171,     0.93164,     0.93178,     0.93211,     0.93216,     0.93222,     0.93227,\n",
       "            0.93232,     0.93254,     0.93232,     0.93239,     0.93246,     0.93253,     0.93266,      0.9329,      0.9332,     0.93311,     0.93325,     0.93321,     0.93316,     0.93312,     0.93307,     0.93303,     0.93298,     0.93278,     0.93235,     0.93188,     0.93192,     0.93199,     0.93205,\n",
       "            0.93208,       0.932,     0.93192,     0.93185,     0.93178,     0.93123,       0.931,      0.9308,     0.93061,     0.93044,     0.93013,     0.93056,     0.93041,     0.93011,     0.92986,      0.9297,     0.92962,     0.92954,     0.92946,     0.92932,     0.92918,     0.92935,     0.92933,\n",
       "            0.92922,     0.92909,     0.92875,     0.92831,     0.92838,     0.92851,     0.92831,     0.92834,      0.9287,     0.92858,     0.92846,      0.9286,     0.92843,     0.92822,     0.92835,     0.92816,     0.92824,     0.92821,     0.92803,      0.9279,     0.92776,      0.9275,     0.92759,\n",
       "            0.92764,     0.92746,     0.92752,     0.92758,     0.92763,     0.92789,     0.92814,     0.92797,     0.92786,     0.92748,     0.92639,     0.92616,     0.92581,     0.92574,     0.92568,     0.92562,     0.92555,     0.92545,     0.92542,      0.9253,     0.92517,     0.92502,     0.92487,\n",
       "            0.92472,     0.92481,     0.92457,     0.92441,     0.92442,      0.9242,     0.92373,     0.92335,     0.92318,     0.92293,     0.92215,     0.92178,      0.9212,     0.92099,     0.92088,     0.92077,     0.92036,     0.92017,     0.92008,     0.91998,     0.91989,     0.91969,     0.91909,\n",
       "             0.9191,     0.91882,     0.91874,     0.91865,     0.91826,     0.91792,     0.91782,     0.91772,     0.91689,     0.91664,     0.91644,     0.91625,     0.91529,     0.91511,     0.91473,      0.9145,     0.91399,     0.91347,     0.91326,     0.91298,     0.91223,     0.91183,     0.91143,\n",
       "             0.9106,     0.90991,     0.90968,     0.90962,     0.90888,     0.90817,     0.90786,     0.90681,     0.90614,     0.90566,     0.90519,     0.90472,     0.90368,     0.90316,      0.9028,     0.90235,     0.90249,     0.90212,      0.9018,     0.90127,     0.90064,     0.90055,     0.90046,\n",
       "            0.90036,      0.9001,      0.8994,     0.89875,     0.89872,     0.89818,      0.8974,     0.89718,     0.89627,     0.89575,      0.8953,     0.89503,     0.89439,     0.89356,     0.89333,     0.89275,     0.89106,     0.89035,     0.88873,     0.88804,     0.88586,     0.88515,     0.88383,\n",
       "            0.88355,     0.88188,     0.88143,     0.87998,     0.87972,     0.87751,     0.87665,     0.87537,     0.87415,     0.87336,     0.87206,     0.87043,     0.86921,     0.86716,     0.86608,     0.86483,     0.86277,     0.86188,     0.85968,     0.85712,     0.85593,     0.85346,     0.85182,\n",
       "            0.84961,     0.84718,     0.84579,     0.84489,     0.84438,     0.84314,     0.84145,     0.83829,     0.83712,     0.83467,     0.83404,     0.83111,     0.83029,     0.82779,     0.82547,     0.82372,     0.82219,     0.82139,     0.81881,     0.81626,     0.81406,     0.81023,     0.80799,\n",
       "            0.80524,     0.80163,     0.79603,     0.79285,     0.79001,     0.78576,     0.78396,        0.78,     0.77919,     0.77489,     0.77246,     0.76808,     0.76503,     0.76188,     0.75915,     0.75372,     0.74873,     0.74352,     0.74089,     0.73719,     0.73018,     0.72614,     0.72231,\n",
       "            0.71822,     0.71541,     0.71125,     0.70442,     0.69966,     0.69472,     0.68942,     0.68618,     0.68411,     0.67992,     0.67491,     0.66966,     0.66359,     0.65555,     0.65002,      0.6444,     0.63933,     0.63406,     0.62891,     0.62336,        0.62,      0.6137,     0.60918,\n",
       "            0.60582,     0.60003,     0.59637,     0.59227,     0.58366,     0.57639,     0.57177,     0.56804,     0.56333,     0.55792,     0.55171,     0.54616,     0.53896,     0.53297,     0.52879,     0.52561,     0.52057,      0.5153,     0.51134,     0.50577,     0.49901,     0.49398,     0.48837,\n",
       "            0.48159,     0.47674,     0.47228,     0.46827,     0.46539,     0.46314,     0.45784,      0.4535,     0.45059,     0.44393,     0.44116,     0.43716,     0.43369,     0.42792,      0.4212,     0.41126,     0.40548,     0.40047,     0.39519,     0.38658,     0.37876,      0.3723,     0.36283,\n",
       "             0.3565,     0.35153,     0.34314,     0.33851,     0.33238,     0.32775,     0.32292,        0.32,     0.31521,     0.30939,     0.30201,     0.29868,      0.2912,     0.28941,     0.28371,     0.27495,     0.26657,     0.26076,      0.2555,     0.24426,     0.23543,      0.2318,     0.22649,\n",
       "            0.21684,     0.21289,     0.20453,     0.19754,     0.19381,     0.18757,      0.1829,     0.17443,     0.16529,     0.15783,     0.14847,     0.14379,     0.13846,     0.13367,     0.12744,     0.12227,       0.119,     0.11547,     0.11106,     0.10251,    0.098326,    0.093017,    0.088823,\n",
       "           0.084302,     0.08023,    0.075391,    0.070854,     0.06715,    0.062266,    0.058324,    0.056627,     0.05099,     0.04688,    0.043802,    0.042732,    0.040418,    0.038056,    0.035022,    0.034203,    0.030987,    0.028539,    0.027027,    0.026419,    0.022084,    0.021376,    0.019101,\n",
       "           0.016222,    0.014752,    0.014166,    0.012094,    0.011461,    0.011022,    0.010738,    0.010454,    0.010171,   0.0087124,   0.0076242,   0.0063834,   0.0048048,   0.0039561,   0.0033517,   0.0030025,   0.0028894,   0.0027763,   0.0026632,   0.0025501,    0.002437,   0.0023238,   0.0022107,\n",
       "          0.0020975,   0.0017513,   0.0011795,           0,           0,           0,           0,           0,           0,           0,           0,           0,           0,           0,           0,           0,           0,           0,           0,           0,           0,           0,           0,\n",
       "                  0,           0,           0,           0,           0,           0,           0,           0,           0,           0,           0,           0,           0,           0,           0,           0,           0,           0,           0,           0,           0,           0,           0,\n",
       "                  0,           0,           0,           0,           0,           0,           0,           0,           0,           0,           0]]), 'Confidence', 'F1'], [array([          0,    0.001001,    0.002002,    0.003003,    0.004004,    0.005005,    0.006006,    0.007007,    0.008008,    0.009009,     0.01001,    0.011011,    0.012012,    0.013013,    0.014014,    0.015015,    0.016016,    0.017017,    0.018018,    0.019019,     0.02002,    0.021021,    0.022022,    0.023023,\n",
       "          0.024024,    0.025025,    0.026026,    0.027027,    0.028028,    0.029029,     0.03003,    0.031031,    0.032032,    0.033033,    0.034034,    0.035035,    0.036036,    0.037037,    0.038038,    0.039039,     0.04004,    0.041041,    0.042042,    0.043043,    0.044044,    0.045045,    0.046046,    0.047047,\n",
       "          0.048048,    0.049049,     0.05005,    0.051051,    0.052052,    0.053053,    0.054054,    0.055055,    0.056056,    0.057057,    0.058058,    0.059059,     0.06006,    0.061061,    0.062062,    0.063063,    0.064064,    0.065065,    0.066066,    0.067067,    0.068068,    0.069069,     0.07007,    0.071071,\n",
       "          0.072072,    0.073073,    0.074074,    0.075075,    0.076076,    0.077077,    0.078078,    0.079079,     0.08008,    0.081081,    0.082082,    0.083083,    0.084084,    0.085085,    0.086086,    0.087087,    0.088088,    0.089089,     0.09009,    0.091091,    0.092092,    0.093093,    0.094094,    0.095095,\n",
       "          0.096096,    0.097097,    0.098098,    0.099099,      0.1001,      0.1011,      0.1021,      0.1031,      0.1041,     0.10511,     0.10611,     0.10711,     0.10811,     0.10911,     0.11011,     0.11111,     0.11211,     0.11311,     0.11411,     0.11512,     0.11612,     0.11712,     0.11812,     0.11912,\n",
       "           0.12012,     0.12112,     0.12212,     0.12312,     0.12412,     0.12513,     0.12613,     0.12713,     0.12813,     0.12913,     0.13013,     0.13113,     0.13213,     0.13313,     0.13413,     0.13514,     0.13614,     0.13714,     0.13814,     0.13914,     0.14014,     0.14114,     0.14214,     0.14314,\n",
       "           0.14414,     0.14515,     0.14615,     0.14715,     0.14815,     0.14915,     0.15015,     0.15115,     0.15215,     0.15315,     0.15415,     0.15516,     0.15616,     0.15716,     0.15816,     0.15916,     0.16016,     0.16116,     0.16216,     0.16316,     0.16416,     0.16517,     0.16617,     0.16717,\n",
       "           0.16817,     0.16917,     0.17017,     0.17117,     0.17217,     0.17317,     0.17417,     0.17518,     0.17618,     0.17718,     0.17818,     0.17918,     0.18018,     0.18118,     0.18218,     0.18318,     0.18418,     0.18519,     0.18619,     0.18719,     0.18819,     0.18919,     0.19019,     0.19119,\n",
       "           0.19219,     0.19319,     0.19419,      0.1952,      0.1962,      0.1972,      0.1982,      0.1992,      0.2002,      0.2012,      0.2022,      0.2032,      0.2042,     0.20521,     0.20621,     0.20721,     0.20821,     0.20921,     0.21021,     0.21121,     0.21221,     0.21321,     0.21421,     0.21522,\n",
       "           0.21622,     0.21722,     0.21822,     0.21922,     0.22022,     0.22122,     0.22222,     0.22322,     0.22422,     0.22523,     0.22623,     0.22723,     0.22823,     0.22923,     0.23023,     0.23123,     0.23223,     0.23323,     0.23423,     0.23524,     0.23624,     0.23724,     0.23824,     0.23924,\n",
       "           0.24024,     0.24124,     0.24224,     0.24324,     0.24424,     0.24525,     0.24625,     0.24725,     0.24825,     0.24925,     0.25025,     0.25125,     0.25225,     0.25325,     0.25425,     0.25526,     0.25626,     0.25726,     0.25826,     0.25926,     0.26026,     0.26126,     0.26226,     0.26326,\n",
       "           0.26426,     0.26527,     0.26627,     0.26727,     0.26827,     0.26927,     0.27027,     0.27127,     0.27227,     0.27327,     0.27427,     0.27528,     0.27628,     0.27728,     0.27828,     0.27928,     0.28028,     0.28128,     0.28228,     0.28328,     0.28428,     0.28529,     0.28629,     0.28729,\n",
       "           0.28829,     0.28929,     0.29029,     0.29129,     0.29229,     0.29329,     0.29429,      0.2953,      0.2963,      0.2973,      0.2983,      0.2993,      0.3003,      0.3013,      0.3023,      0.3033,      0.3043,     0.30531,     0.30631,     0.30731,     0.30831,     0.30931,     0.31031,     0.31131,\n",
       "           0.31231,     0.31331,     0.31431,     0.31532,     0.31632,     0.31732,     0.31832,     0.31932,     0.32032,     0.32132,     0.32232,     0.32332,     0.32432,     0.32533,     0.32633,     0.32733,     0.32833,     0.32933,     0.33033,     0.33133,     0.33233,     0.33333,     0.33433,     0.33534,\n",
       "           0.33634,     0.33734,     0.33834,     0.33934,     0.34034,     0.34134,     0.34234,     0.34334,     0.34434,     0.34535,     0.34635,     0.34735,     0.34835,     0.34935,     0.35035,     0.35135,     0.35235,     0.35335,     0.35435,     0.35536,     0.35636,     0.35736,     0.35836,     0.35936,\n",
       "           0.36036,     0.36136,     0.36236,     0.36336,     0.36436,     0.36537,     0.36637,     0.36737,     0.36837,     0.36937,     0.37037,     0.37137,     0.37237,     0.37337,     0.37437,     0.37538,     0.37638,     0.37738,     0.37838,     0.37938,     0.38038,     0.38138,     0.38238,     0.38338,\n",
       "           0.38438,     0.38539,     0.38639,     0.38739,     0.38839,     0.38939,     0.39039,     0.39139,     0.39239,     0.39339,     0.39439,      0.3954,      0.3964,      0.3974,      0.3984,      0.3994,      0.4004,      0.4014,      0.4024,      0.4034,      0.4044,     0.40541,     0.40641,     0.40741,\n",
       "           0.40841,     0.40941,     0.41041,     0.41141,     0.41241,     0.41341,     0.41441,     0.41542,     0.41642,     0.41742,     0.41842,     0.41942,     0.42042,     0.42142,     0.42242,     0.42342,     0.42442,     0.42543,     0.42643,     0.42743,     0.42843,     0.42943,     0.43043,     0.43143,\n",
       "           0.43243,     0.43343,     0.43443,     0.43544,     0.43644,     0.43744,     0.43844,     0.43944,     0.44044,     0.44144,     0.44244,     0.44344,     0.44444,     0.44545,     0.44645,     0.44745,     0.44845,     0.44945,     0.45045,     0.45145,     0.45245,     0.45345,     0.45445,     0.45546,\n",
       "           0.45646,     0.45746,     0.45846,     0.45946,     0.46046,     0.46146,     0.46246,     0.46346,     0.46446,     0.46547,     0.46647,     0.46747,     0.46847,     0.46947,     0.47047,     0.47147,     0.47247,     0.47347,     0.47447,     0.47548,     0.47648,     0.47748,     0.47848,     0.47948,\n",
       "           0.48048,     0.48148,     0.48248,     0.48348,     0.48448,     0.48549,     0.48649,     0.48749,     0.48849,     0.48949,     0.49049,     0.49149,     0.49249,     0.49349,     0.49449,      0.4955,      0.4965,      0.4975,      0.4985,      0.4995,      0.5005,      0.5015,      0.5025,      0.5035,\n",
       "            0.5045,     0.50551,     0.50651,     0.50751,     0.50851,     0.50951,     0.51051,     0.51151,     0.51251,     0.51351,     0.51451,     0.51552,     0.51652,     0.51752,     0.51852,     0.51952,     0.52052,     0.52152,     0.52252,     0.52352,     0.52452,     0.52553,     0.52653,     0.52753,\n",
       "           0.52853,     0.52953,     0.53053,     0.53153,     0.53253,     0.53353,     0.53453,     0.53554,     0.53654,     0.53754,     0.53854,     0.53954,     0.54054,     0.54154,     0.54254,     0.54354,     0.54454,     0.54555,     0.54655,     0.54755,     0.54855,     0.54955,     0.55055,     0.55155,\n",
       "           0.55255,     0.55355,     0.55455,     0.55556,     0.55656,     0.55756,     0.55856,     0.55956,     0.56056,     0.56156,     0.56256,     0.56356,     0.56456,     0.56557,     0.56657,     0.56757,     0.56857,     0.56957,     0.57057,     0.57157,     0.57257,     0.57357,     0.57457,     0.57558,\n",
       "           0.57658,     0.57758,     0.57858,     0.57958,     0.58058,     0.58158,     0.58258,     0.58358,     0.58458,     0.58559,     0.58659,     0.58759,     0.58859,     0.58959,     0.59059,     0.59159,     0.59259,     0.59359,     0.59459,      0.5956,      0.5966,      0.5976,      0.5986,      0.5996,\n",
       "            0.6006,      0.6016,      0.6026,      0.6036,      0.6046,     0.60561,     0.60661,     0.60761,     0.60861,     0.60961,     0.61061,     0.61161,     0.61261,     0.61361,     0.61461,     0.61562,     0.61662,     0.61762,     0.61862,     0.61962,     0.62062,     0.62162,     0.62262,     0.62362,\n",
       "           0.62462,     0.62563,     0.62663,     0.62763,     0.62863,     0.62963,     0.63063,     0.63163,     0.63263,     0.63363,     0.63463,     0.63564,     0.63664,     0.63764,     0.63864,     0.63964,     0.64064,     0.64164,     0.64264,     0.64364,     0.64464,     0.64565,     0.64665,     0.64765,\n",
       "           0.64865,     0.64965,     0.65065,     0.65165,     0.65265,     0.65365,     0.65465,     0.65566,     0.65666,     0.65766,     0.65866,     0.65966,     0.66066,     0.66166,     0.66266,     0.66366,     0.66466,     0.66567,     0.66667,     0.66767,     0.66867,     0.66967,     0.67067,     0.67167,\n",
       "           0.67267,     0.67367,     0.67467,     0.67568,     0.67668,     0.67768,     0.67868,     0.67968,     0.68068,     0.68168,     0.68268,     0.68368,     0.68468,     0.68569,     0.68669,     0.68769,     0.68869,     0.68969,     0.69069,     0.69169,     0.69269,     0.69369,     0.69469,      0.6957,\n",
       "            0.6967,      0.6977,      0.6987,      0.6997,      0.7007,      0.7017,      0.7027,      0.7037,      0.7047,     0.70571,     0.70671,     0.70771,     0.70871,     0.70971,     0.71071,     0.71171,     0.71271,     0.71371,     0.71471,     0.71572,     0.71672,     0.71772,     0.71872,     0.71972,\n",
       "           0.72072,     0.72172,     0.72272,     0.72372,     0.72472,     0.72573,     0.72673,     0.72773,     0.72873,     0.72973,     0.73073,     0.73173,     0.73273,     0.73373,     0.73473,     0.73574,     0.73674,     0.73774,     0.73874,     0.73974,     0.74074,     0.74174,     0.74274,     0.74374,\n",
       "           0.74474,     0.74575,     0.74675,     0.74775,     0.74875,     0.74975,     0.75075,     0.75175,     0.75275,     0.75375,     0.75475,     0.75576,     0.75676,     0.75776,     0.75876,     0.75976,     0.76076,     0.76176,     0.76276,     0.76376,     0.76476,     0.76577,     0.76677,     0.76777,\n",
       "           0.76877,     0.76977,     0.77077,     0.77177,     0.77277,     0.77377,     0.77477,     0.77578,     0.77678,     0.77778,     0.77878,     0.77978,     0.78078,     0.78178,     0.78278,     0.78378,     0.78478,     0.78579,     0.78679,     0.78779,     0.78879,     0.78979,     0.79079,     0.79179,\n",
       "           0.79279,     0.79379,     0.79479,      0.7958,      0.7968,      0.7978,      0.7988,      0.7998,      0.8008,      0.8018,      0.8028,      0.8038,      0.8048,     0.80581,     0.80681,     0.80781,     0.80881,     0.80981,     0.81081,     0.81181,     0.81281,     0.81381,     0.81481,     0.81582,\n",
       "           0.81682,     0.81782,     0.81882,     0.81982,     0.82082,     0.82182,     0.82282,     0.82382,     0.82482,     0.82583,     0.82683,     0.82783,     0.82883,     0.82983,     0.83083,     0.83183,     0.83283,     0.83383,     0.83483,     0.83584,     0.83684,     0.83784,     0.83884,     0.83984,\n",
       "           0.84084,     0.84184,     0.84284,     0.84384,     0.84484,     0.84585,     0.84685,     0.84785,     0.84885,     0.84985,     0.85085,     0.85185,     0.85285,     0.85385,     0.85485,     0.85586,     0.85686,     0.85786,     0.85886,     0.85986,     0.86086,     0.86186,     0.86286,     0.86386,\n",
       "           0.86486,     0.86587,     0.86687,     0.86787,     0.86887,     0.86987,     0.87087,     0.87187,     0.87287,     0.87387,     0.87487,     0.87588,     0.87688,     0.87788,     0.87888,     0.87988,     0.88088,     0.88188,     0.88288,     0.88388,     0.88488,     0.88589,     0.88689,     0.88789,\n",
       "           0.88889,     0.88989,     0.89089,     0.89189,     0.89289,     0.89389,     0.89489,      0.8959,      0.8969,      0.8979,      0.8989,      0.8999,      0.9009,      0.9019,      0.9029,      0.9039,      0.9049,     0.90591,     0.90691,     0.90791,     0.90891,     0.90991,     0.91091,     0.91191,\n",
       "           0.91291,     0.91391,     0.91491,     0.91592,     0.91692,     0.91792,     0.91892,     0.91992,     0.92092,     0.92192,     0.92292,     0.92392,     0.92492,     0.92593,     0.92693,     0.92793,     0.92893,     0.92993,     0.93093,     0.93193,     0.93293,     0.93393,     0.93493,     0.93594,\n",
       "           0.93694,     0.93794,     0.93894,     0.93994,     0.94094,     0.94194,     0.94294,     0.94394,     0.94494,     0.94595,     0.94695,     0.94795,     0.94895,     0.94995,     0.95095,     0.95195,     0.95295,     0.95395,     0.95495,     0.95596,     0.95696,     0.95796,     0.95896,     0.95996,\n",
       "           0.96096,     0.96196,     0.96296,     0.96396,     0.96496,     0.96597,     0.96697,     0.96797,     0.96897,     0.96997,     0.97097,     0.97197,     0.97297,     0.97397,     0.97497,     0.97598,     0.97698,     0.97798,     0.97898,     0.97998,     0.98098,     0.98198,     0.98298,     0.98398,\n",
       "           0.98498,     0.98599,     0.98699,     0.98799,     0.98899,     0.98999,     0.99099,     0.99199,     0.99299,     0.99399,     0.99499,       0.996,       0.997,       0.998,       0.999,           1]), array([[    0.95755,     0.95755,     0.95755,     0.95755,     0.95755,     0.95755,     0.95755,     0.95755,     0.95755,     0.95755,     0.95755,     0.95755,     0.95755,     0.95755,     0.95755,     0.95755,     0.95755,     0.95755,     0.95755,     0.95755,     0.95755,     0.95755,     0.95755,\n",
       "            0.95755,     0.95755,     0.95755,     0.95755,     0.95755,     0.95755,     0.95755,     0.95755,     0.95755,     0.95755,     0.95755,     0.95755,     0.95755,     0.95755,     0.95755,     0.95755,     0.95755,     0.95755,     0.95755,     0.95755,     0.95755,     0.95755,     0.95755,\n",
       "            0.95755,     0.95755,     0.95755,     0.95755,     0.95755,     0.95755,     0.95755,     0.95755,     0.95755,     0.95755,     0.95755,     0.95755,     0.95755,     0.95755,     0.95755,     0.95755,     0.95755,     0.95755,     0.95755,     0.95755,     0.95755,     0.95755,     0.95755,\n",
       "            0.95755,     0.95755,     0.95755,     0.95755,     0.95755,     0.95755,     0.95755,     0.95755,     0.95755,     0.95755,     0.95755,     0.95755,     0.95755,     0.95755,     0.95755,     0.95755,     0.95755,     0.95755,     0.95755,     0.95755,     0.95755,     0.95755,     0.95755,\n",
       "            0.95755,     0.95755,     0.95755,     0.95755,     0.95755,     0.95755,     0.95755,     0.95755,     0.95755,     0.95755,     0.95755,     0.95755,     0.95755,     0.95755,     0.95755,     0.95755,     0.95755,     0.95755,     0.95755,     0.95755,     0.95755,     0.95755,     0.95755,\n",
       "            0.95755,     0.95755,     0.95755,     0.95755,     0.95755,     0.95755,     0.95755,     0.95755,     0.95755,     0.95755,     0.95755,     0.95755,     0.95755,     0.95755,     0.95755,     0.95755,     0.95755,     0.95755,     0.95755,     0.95755,     0.95755,     0.95755,     0.95755,\n",
       "            0.95755,     0.95755,     0.95755,     0.95755,     0.95755,     0.95755,     0.95755,     0.95755,     0.95755,     0.95755,     0.95755,     0.95755,     0.95755,     0.95755,     0.95755,     0.95755,     0.95755,     0.95755,     0.95755,     0.95755,     0.95755,     0.95755,     0.95755,\n",
       "            0.95755,     0.95755,     0.95755,     0.95755,     0.95755,     0.95755,     0.95755,     0.95755,     0.95755,     0.95755,     0.95755,     0.95755,     0.95755,     0.95755,     0.95755,     0.95755,     0.95755,     0.95755,     0.95755,     0.95755,     0.95755,     0.95755,     0.95755,\n",
       "            0.95755,     0.95755,     0.95755,     0.95755,     0.95755,     0.95755,     0.95755,     0.95755,     0.95755,     0.95755,     0.95755,     0.95755,     0.95755,     0.95755,     0.95755,     0.95755,     0.95755,     0.95755,     0.95755,     0.95755,     0.95755,     0.95755,     0.95755,\n",
       "            0.95755,     0.95755,     0.95755,     0.95755,     0.95755,     0.95755,     0.95755,     0.95755,     0.95755,     0.95755,     0.95755,     0.95755,     0.95755,     0.95755,     0.95755,     0.95755,     0.95755,     0.95755,     0.95755,     0.95755,     0.95755,     0.95755,     0.95755,\n",
       "            0.95755,     0.95755,     0.95755,     0.95755,     0.95755,     0.95755,     0.95755,     0.95755,     0.95755,     0.95755,     0.95755,     0.95755,     0.95755,     0.95755,     0.95755,     0.95755,     0.95755,     0.95755,     0.95755,     0.95755,     0.95755,     0.95755,     0.95755,\n",
       "            0.95755,     0.95755,     0.95755,     0.95755,     0.95755,     0.95755,     0.95755,     0.95755,     0.95755,     0.95755,     0.95755,     0.95755,     0.95755,     0.95755,     0.95755,     0.95755,     0.95755,     0.95755,     0.95755,     0.95755,     0.95755,     0.95755,     0.95755,\n",
       "            0.95755,     0.95755,     0.95755,     0.95755,     0.95755,     0.95755,     0.95755,     0.95755,     0.95755,     0.95755,     0.95755,     0.95755,     0.95755,     0.95755,     0.95755,     0.95755,     0.95755,     0.95755,     0.95755,     0.95755,     0.95755,     0.95755,     0.95755,\n",
       "            0.95755,     0.95755,     0.95755,     0.95755,     0.95755,     0.95755,     0.95755,     0.95755,     0.95755,     0.95755,     0.95755,     0.95755,     0.95755,     0.95755,     0.95755,     0.95755,     0.95755,     0.95755,     0.95755,     0.95755,     0.95755,     0.95755,     0.95755,\n",
       "            0.95755,     0.95755,     0.95755,     0.95755,     0.95755,     0.95755,     0.95755,     0.95755,     0.95755,     0.95755,     0.95755,     0.95755,     0.95755,     0.95755,     0.95755,     0.95755,     0.95755,     0.95755,     0.95755,     0.95755,     0.95755,     0.95755,     0.95755,\n",
       "            0.95755,     0.95755,     0.95755,     0.95755,     0.95755,     0.95755,     0.95755,     0.95755,     0.95755,     0.95755,     0.95755,     0.95755,     0.95755,     0.95755,     0.95755,     0.95755,     0.95755,     0.95755,     0.95755,     0.95755,     0.95755,     0.95755,     0.95755,\n",
       "            0.95755,     0.95755,     0.95755,     0.95755,     0.95755,     0.95755,     0.95755,     0.95755,     0.95755,     0.95755,     0.95755,     0.95755,     0.95755,     0.95755,     0.95755,     0.95755,     0.95755,     0.95755,     0.95755,     0.95755,     0.95755,     0.95755,     0.95755,\n",
       "            0.95755,     0.95755,     0.95755,     0.95755,     0.95755,     0.95755,     0.95755,     0.95755,     0.95755,     0.95755,     0.95755,     0.95755,     0.95755,     0.95755,     0.95755,     0.95755,     0.95755,     0.95755,     0.95755,     0.95755,     0.95755,     0.95755,     0.95755,\n",
       "            0.95755,     0.95755,     0.95755,     0.95755,     0.95755,     0.95755,     0.95755,     0.95755,     0.95755,     0.95755,     0.95755,     0.95755,     0.95755,     0.95755,     0.95755,     0.95755,     0.95755,     0.95755,     0.95755,     0.95755,     0.95755,     0.95755,     0.95755,\n",
       "            0.95755,     0.95755,     0.95755,     0.95755,     0.95755,     0.95755,     0.95755,     0.95755,     0.95755,     0.95755,     0.95755,     0.95755,     0.95755,     0.95755,     0.95755,     0.95755,     0.95755,     0.95755,     0.95755,     0.95755,     0.95755,     0.95755,     0.95755,\n",
       "            0.95755,     0.95755,     0.95755,     0.95755,     0.95755,     0.95755,     0.95755,     0.95755,     0.95755,     0.95755,     0.95755,     0.95755,     0.95755,     0.95755,     0.95755,     0.95755,     0.95755,     0.95755,     0.95755,     0.95755,     0.95755,     0.95755,     0.95755,\n",
       "            0.95755,     0.95755,     0.95755,     0.95755,     0.95755,     0.95755,     0.95755,     0.95755,     0.95755,     0.95755,     0.95755,     0.95755,     0.95755,     0.95755,     0.95755,     0.95755,     0.95755,     0.95755,     0.95755,     0.95768,      0.9579,     0.95806,     0.95805,\n",
       "            0.95812,     0.95853,     0.95851,     0.95875,     0.95897,     0.95948,     0.95947,     0.95947,     0.95946,     0.95945,     0.95944,     0.95942,     0.95952,     0.95969,     0.95986,     0.95991,      0.9599,     0.95996,     0.96025,     0.96095,     0.96106,     0.96117,     0.96128,\n",
       "            0.96138,     0.96197,     0.96196,     0.96211,     0.96226,     0.96241,     0.96269,      0.9632,     0.96405,     0.96423,     0.96456,     0.96455,     0.96455,     0.96455,     0.96455,     0.96454,     0.96454,     0.96453,      0.9645,     0.96446,      0.9646,     0.96475,     0.96489,\n",
       "             0.9655,     0.96549,     0.96549,     0.96548,     0.96548,     0.96544,     0.96543,     0.96541,      0.9654,     0.96539,     0.96546,     0.96643,     0.96642,      0.9664,     0.96638,     0.96637,     0.96637,     0.96636,     0.96635,     0.96635,     0.96634,     0.96675,     0.96686,\n",
       "            0.96686,     0.96685,     0.96683,      0.9668,     0.96704,     0.96731,     0.96732,     0.96754,     0.96838,     0.96838,     0.96837,      0.9689,     0.96889,     0.96911,     0.96941,      0.9694,     0.96974,     0.96993,     0.96992,     0.96991,      0.9699,     0.96989,     0.97015,\n",
       "            0.97042,     0.97048,     0.97061,     0.97073,     0.97085,     0.97142,     0.97197,     0.97221,     0.97255,     0.97253,     0.97247,     0.97246,     0.97244,     0.97244,     0.97243,     0.97243,     0.97243,     0.97283,     0.97295,     0.97295,     0.97294,     0.97293,     0.97292,\n",
       "            0.97292,     0.97327,     0.97344,     0.97344,     0.97367,     0.97396,     0.97394,     0.97392,     0.97391,      0.9739,     0.97386,     0.97384,     0.97381,     0.97434,     0.97434,     0.97433,     0.97431,      0.9743,      0.9743,     0.97429,     0.97429,     0.97537,     0.97534,\n",
       "            0.97589,     0.97587,     0.97587,     0.97587,     0.97585,     0.97583,     0.97583,     0.97582,     0.97578,     0.97577,     0.97576,     0.97575,     0.97571,      0.9757,     0.97568,     0.97567,      0.9762,     0.97617,     0.97616,     0.97615,     0.97612,      0.9761,     0.97608,\n",
       "            0.97604,     0.97601,     0.97599,     0.97655,     0.97652,     0.97649,     0.97703,     0.97747,     0.97752,      0.9775,      0.9778,     0.97803,     0.97798,     0.97796,     0.97795,     0.97793,     0.97841,     0.97849,     0.97848,     0.97845,       0.979,       0.979,       0.979,\n",
       "            0.97899,     0.97956,     0.97953,      0.9795,     0.98008,     0.98006,     0.98003,     0.98002,     0.97999,     0.97997,     0.97995,     0.97994,     0.97991,     0.97998,     0.98046,     0.98044,     0.98037,     0.98034,     0.98028,     0.98025,     0.98017,     0.98014,     0.98009,\n",
       "            0.98008,     0.98001,     0.98025,     0.98054,     0.98053,     0.98044,     0.98074,     0.98097,     0.98093,      0.9809,     0.98085,      0.9814,     0.98198,     0.98191,     0.98187,     0.98182,     0.98175,     0.98171,     0.98163,     0.98154,     0.98241,     0.98269,     0.98263,\n",
       "            0.98256,     0.98247,     0.98253,     0.98305,     0.98303,     0.98299,     0.98339,     0.98349,     0.98412,     0.98404,     0.98402,     0.98393,     0.98458,     0.98588,     0.98581,     0.98576,     0.98641,     0.98709,     0.98844,     0.98838,     0.98832,     0.98823,     0.98818,\n",
       "            0.98811,     0.98802,     0.98863,     0.98877,     0.98999,     0.98991,     0.99064,     0.99056,     0.99132,     0.99124,     0.99199,     0.99191,     0.99186,     0.99181,     0.99176,     0.99166,     0.99158,     0.99148,     0.99204,     0.99222,     0.99297,     0.99291,     0.99285,\n",
       "            0.99279,     0.99364,     0.99358,     0.99349,     0.99342,     0.99335,     0.99422,     0.99418,     0.99416,     0.99508,     0.99601,     0.99596,     0.99591,     0.99583,     0.99578,     0.99573,     0.99568,     0.99562,     0.99557,     0.99552,      0.9966,     0.99655,     0.99652,\n",
       "            0.99649,     0.99762,      0.9976,     0.99758,     0.99753,     0.99748,     0.99746,     0.99743,      0.9974,     0.99737,     0.99733,     0.99729,     0.99724,      0.9972,     0.99717,     0.99714,     0.99711,     0.99707,     0.99704,     0.99699,     0.99694,      0.9969,     0.99685,\n",
       "            0.99679,     0.99675,           1,           1,           1,           1,           1,           1,           1,           1,           1,           1,           1,           1,           1,           1,           1,           1,           1,           1,           1,           1,           1,\n",
       "                  1,           1,           1,           1,           1,           1,           1,           1,           1,           1,           1,           1,           1,           1,           1,           1,           1,           1,           1,           1,           1,           1,           1,\n",
       "                  1,           1,           1,           1,           1,           1,           1,           1,           1,           1,           1,           1,           1,           1,           1,           1,           1,           1,           1,           1,           1,           1,           1,\n",
       "                  1,           1,           1,           1,           1,           1,           1,           1,           1,           1,           1,           1,           1,           1,           1,           1,           1,           1,           1,           1,           1,           1,           1,\n",
       "                  1,           1,           1,           1,           1,           1,           1,           1,           1,           1,           1,           1,           1,           1,           1,           1,           1,           1,           1,           1,           1,           1,           1,\n",
       "                  1,           1,           1,           1,           1,           1,           1,           1,           1,           1,           1,           1,           1,           1,           1,           1,           1,           1,           1,           1,           1,           1,           1,\n",
       "                  1,           1,           1,           1,           1,           1,           1,           1,           1,           1,           1,           1,           1,           1,           1,           1,           1,           1,           1,           1,           1,           1,           1,\n",
       "                  1,           1,           1,           1,           1,           1,           1,           1,           1,           1,           1]]), 'Confidence', 'Precision'], [array([          0,    0.001001,    0.002002,    0.003003,    0.004004,    0.005005,    0.006006,    0.007007,    0.008008,    0.009009,     0.01001,    0.011011,    0.012012,    0.013013,    0.014014,    0.015015,    0.016016,    0.017017,    0.018018,    0.019019,     0.02002,    0.021021,    0.022022,    0.023023,\n",
       "          0.024024,    0.025025,    0.026026,    0.027027,    0.028028,    0.029029,     0.03003,    0.031031,    0.032032,    0.033033,    0.034034,    0.035035,    0.036036,    0.037037,    0.038038,    0.039039,     0.04004,    0.041041,    0.042042,    0.043043,    0.044044,    0.045045,    0.046046,    0.047047,\n",
       "          0.048048,    0.049049,     0.05005,    0.051051,    0.052052,    0.053053,    0.054054,    0.055055,    0.056056,    0.057057,    0.058058,    0.059059,     0.06006,    0.061061,    0.062062,    0.063063,    0.064064,    0.065065,    0.066066,    0.067067,    0.068068,    0.069069,     0.07007,    0.071071,\n",
       "          0.072072,    0.073073,    0.074074,    0.075075,    0.076076,    0.077077,    0.078078,    0.079079,     0.08008,    0.081081,    0.082082,    0.083083,    0.084084,    0.085085,    0.086086,    0.087087,    0.088088,    0.089089,     0.09009,    0.091091,    0.092092,    0.093093,    0.094094,    0.095095,\n",
       "          0.096096,    0.097097,    0.098098,    0.099099,      0.1001,      0.1011,      0.1021,      0.1031,      0.1041,     0.10511,     0.10611,     0.10711,     0.10811,     0.10911,     0.11011,     0.11111,     0.11211,     0.11311,     0.11411,     0.11512,     0.11612,     0.11712,     0.11812,     0.11912,\n",
       "           0.12012,     0.12112,     0.12212,     0.12312,     0.12412,     0.12513,     0.12613,     0.12713,     0.12813,     0.12913,     0.13013,     0.13113,     0.13213,     0.13313,     0.13413,     0.13514,     0.13614,     0.13714,     0.13814,     0.13914,     0.14014,     0.14114,     0.14214,     0.14314,\n",
       "           0.14414,     0.14515,     0.14615,     0.14715,     0.14815,     0.14915,     0.15015,     0.15115,     0.15215,     0.15315,     0.15415,     0.15516,     0.15616,     0.15716,     0.15816,     0.15916,     0.16016,     0.16116,     0.16216,     0.16316,     0.16416,     0.16517,     0.16617,     0.16717,\n",
       "           0.16817,     0.16917,     0.17017,     0.17117,     0.17217,     0.17317,     0.17417,     0.17518,     0.17618,     0.17718,     0.17818,     0.17918,     0.18018,     0.18118,     0.18218,     0.18318,     0.18418,     0.18519,     0.18619,     0.18719,     0.18819,     0.18919,     0.19019,     0.19119,\n",
       "           0.19219,     0.19319,     0.19419,      0.1952,      0.1962,      0.1972,      0.1982,      0.1992,      0.2002,      0.2012,      0.2022,      0.2032,      0.2042,     0.20521,     0.20621,     0.20721,     0.20821,     0.20921,     0.21021,     0.21121,     0.21221,     0.21321,     0.21421,     0.21522,\n",
       "           0.21622,     0.21722,     0.21822,     0.21922,     0.22022,     0.22122,     0.22222,     0.22322,     0.22422,     0.22523,     0.22623,     0.22723,     0.22823,     0.22923,     0.23023,     0.23123,     0.23223,     0.23323,     0.23423,     0.23524,     0.23624,     0.23724,     0.23824,     0.23924,\n",
       "           0.24024,     0.24124,     0.24224,     0.24324,     0.24424,     0.24525,     0.24625,     0.24725,     0.24825,     0.24925,     0.25025,     0.25125,     0.25225,     0.25325,     0.25425,     0.25526,     0.25626,     0.25726,     0.25826,     0.25926,     0.26026,     0.26126,     0.26226,     0.26326,\n",
       "           0.26426,     0.26527,     0.26627,     0.26727,     0.26827,     0.26927,     0.27027,     0.27127,     0.27227,     0.27327,     0.27427,     0.27528,     0.27628,     0.27728,     0.27828,     0.27928,     0.28028,     0.28128,     0.28228,     0.28328,     0.28428,     0.28529,     0.28629,     0.28729,\n",
       "           0.28829,     0.28929,     0.29029,     0.29129,     0.29229,     0.29329,     0.29429,      0.2953,      0.2963,      0.2973,      0.2983,      0.2993,      0.3003,      0.3013,      0.3023,      0.3033,      0.3043,     0.30531,     0.30631,     0.30731,     0.30831,     0.30931,     0.31031,     0.31131,\n",
       "           0.31231,     0.31331,     0.31431,     0.31532,     0.31632,     0.31732,     0.31832,     0.31932,     0.32032,     0.32132,     0.32232,     0.32332,     0.32432,     0.32533,     0.32633,     0.32733,     0.32833,     0.32933,     0.33033,     0.33133,     0.33233,     0.33333,     0.33433,     0.33534,\n",
       "           0.33634,     0.33734,     0.33834,     0.33934,     0.34034,     0.34134,     0.34234,     0.34334,     0.34434,     0.34535,     0.34635,     0.34735,     0.34835,     0.34935,     0.35035,     0.35135,     0.35235,     0.35335,     0.35435,     0.35536,     0.35636,     0.35736,     0.35836,     0.35936,\n",
       "           0.36036,     0.36136,     0.36236,     0.36336,     0.36436,     0.36537,     0.36637,     0.36737,     0.36837,     0.36937,     0.37037,     0.37137,     0.37237,     0.37337,     0.37437,     0.37538,     0.37638,     0.37738,     0.37838,     0.37938,     0.38038,     0.38138,     0.38238,     0.38338,\n",
       "           0.38438,     0.38539,     0.38639,     0.38739,     0.38839,     0.38939,     0.39039,     0.39139,     0.39239,     0.39339,     0.39439,      0.3954,      0.3964,      0.3974,      0.3984,      0.3994,      0.4004,      0.4014,      0.4024,      0.4034,      0.4044,     0.40541,     0.40641,     0.40741,\n",
       "           0.40841,     0.40941,     0.41041,     0.41141,     0.41241,     0.41341,     0.41441,     0.41542,     0.41642,     0.41742,     0.41842,     0.41942,     0.42042,     0.42142,     0.42242,     0.42342,     0.42442,     0.42543,     0.42643,     0.42743,     0.42843,     0.42943,     0.43043,     0.43143,\n",
       "           0.43243,     0.43343,     0.43443,     0.43544,     0.43644,     0.43744,     0.43844,     0.43944,     0.44044,     0.44144,     0.44244,     0.44344,     0.44444,     0.44545,     0.44645,     0.44745,     0.44845,     0.44945,     0.45045,     0.45145,     0.45245,     0.45345,     0.45445,     0.45546,\n",
       "           0.45646,     0.45746,     0.45846,     0.45946,     0.46046,     0.46146,     0.46246,     0.46346,     0.46446,     0.46547,     0.46647,     0.46747,     0.46847,     0.46947,     0.47047,     0.47147,     0.47247,     0.47347,     0.47447,     0.47548,     0.47648,     0.47748,     0.47848,     0.47948,\n",
       "           0.48048,     0.48148,     0.48248,     0.48348,     0.48448,     0.48549,     0.48649,     0.48749,     0.48849,     0.48949,     0.49049,     0.49149,     0.49249,     0.49349,     0.49449,      0.4955,      0.4965,      0.4975,      0.4985,      0.4995,      0.5005,      0.5015,      0.5025,      0.5035,\n",
       "            0.5045,     0.50551,     0.50651,     0.50751,     0.50851,     0.50951,     0.51051,     0.51151,     0.51251,     0.51351,     0.51451,     0.51552,     0.51652,     0.51752,     0.51852,     0.51952,     0.52052,     0.52152,     0.52252,     0.52352,     0.52452,     0.52553,     0.52653,     0.52753,\n",
       "           0.52853,     0.52953,     0.53053,     0.53153,     0.53253,     0.53353,     0.53453,     0.53554,     0.53654,     0.53754,     0.53854,     0.53954,     0.54054,     0.54154,     0.54254,     0.54354,     0.54454,     0.54555,     0.54655,     0.54755,     0.54855,     0.54955,     0.55055,     0.55155,\n",
       "           0.55255,     0.55355,     0.55455,     0.55556,     0.55656,     0.55756,     0.55856,     0.55956,     0.56056,     0.56156,     0.56256,     0.56356,     0.56456,     0.56557,     0.56657,     0.56757,     0.56857,     0.56957,     0.57057,     0.57157,     0.57257,     0.57357,     0.57457,     0.57558,\n",
       "           0.57658,     0.57758,     0.57858,     0.57958,     0.58058,     0.58158,     0.58258,     0.58358,     0.58458,     0.58559,     0.58659,     0.58759,     0.58859,     0.58959,     0.59059,     0.59159,     0.59259,     0.59359,     0.59459,      0.5956,      0.5966,      0.5976,      0.5986,      0.5996,\n",
       "            0.6006,      0.6016,      0.6026,      0.6036,      0.6046,     0.60561,     0.60661,     0.60761,     0.60861,     0.60961,     0.61061,     0.61161,     0.61261,     0.61361,     0.61461,     0.61562,     0.61662,     0.61762,     0.61862,     0.61962,     0.62062,     0.62162,     0.62262,     0.62362,\n",
       "           0.62462,     0.62563,     0.62663,     0.62763,     0.62863,     0.62963,     0.63063,     0.63163,     0.63263,     0.63363,     0.63463,     0.63564,     0.63664,     0.63764,     0.63864,     0.63964,     0.64064,     0.64164,     0.64264,     0.64364,     0.64464,     0.64565,     0.64665,     0.64765,\n",
       "           0.64865,     0.64965,     0.65065,     0.65165,     0.65265,     0.65365,     0.65465,     0.65566,     0.65666,     0.65766,     0.65866,     0.65966,     0.66066,     0.66166,     0.66266,     0.66366,     0.66466,     0.66567,     0.66667,     0.66767,     0.66867,     0.66967,     0.67067,     0.67167,\n",
       "           0.67267,     0.67367,     0.67467,     0.67568,     0.67668,     0.67768,     0.67868,     0.67968,     0.68068,     0.68168,     0.68268,     0.68368,     0.68468,     0.68569,     0.68669,     0.68769,     0.68869,     0.68969,     0.69069,     0.69169,     0.69269,     0.69369,     0.69469,      0.6957,\n",
       "            0.6967,      0.6977,      0.6987,      0.6997,      0.7007,      0.7017,      0.7027,      0.7037,      0.7047,     0.70571,     0.70671,     0.70771,     0.70871,     0.70971,     0.71071,     0.71171,     0.71271,     0.71371,     0.71471,     0.71572,     0.71672,     0.71772,     0.71872,     0.71972,\n",
       "           0.72072,     0.72172,     0.72272,     0.72372,     0.72472,     0.72573,     0.72673,     0.72773,     0.72873,     0.72973,     0.73073,     0.73173,     0.73273,     0.73373,     0.73473,     0.73574,     0.73674,     0.73774,     0.73874,     0.73974,     0.74074,     0.74174,     0.74274,     0.74374,\n",
       "           0.74474,     0.74575,     0.74675,     0.74775,     0.74875,     0.74975,     0.75075,     0.75175,     0.75275,     0.75375,     0.75475,     0.75576,     0.75676,     0.75776,     0.75876,     0.75976,     0.76076,     0.76176,     0.76276,     0.76376,     0.76476,     0.76577,     0.76677,     0.76777,\n",
       "           0.76877,     0.76977,     0.77077,     0.77177,     0.77277,     0.77377,     0.77477,     0.77578,     0.77678,     0.77778,     0.77878,     0.77978,     0.78078,     0.78178,     0.78278,     0.78378,     0.78478,     0.78579,     0.78679,     0.78779,     0.78879,     0.78979,     0.79079,     0.79179,\n",
       "           0.79279,     0.79379,     0.79479,      0.7958,      0.7968,      0.7978,      0.7988,      0.7998,      0.8008,      0.8018,      0.8028,      0.8038,      0.8048,     0.80581,     0.80681,     0.80781,     0.80881,     0.80981,     0.81081,     0.81181,     0.81281,     0.81381,     0.81481,     0.81582,\n",
       "           0.81682,     0.81782,     0.81882,     0.81982,     0.82082,     0.82182,     0.82282,     0.82382,     0.82482,     0.82583,     0.82683,     0.82783,     0.82883,     0.82983,     0.83083,     0.83183,     0.83283,     0.83383,     0.83483,     0.83584,     0.83684,     0.83784,     0.83884,     0.83984,\n",
       "           0.84084,     0.84184,     0.84284,     0.84384,     0.84484,     0.84585,     0.84685,     0.84785,     0.84885,     0.84985,     0.85085,     0.85185,     0.85285,     0.85385,     0.85485,     0.85586,     0.85686,     0.85786,     0.85886,     0.85986,     0.86086,     0.86186,     0.86286,     0.86386,\n",
       "           0.86486,     0.86587,     0.86687,     0.86787,     0.86887,     0.86987,     0.87087,     0.87187,     0.87287,     0.87387,     0.87487,     0.87588,     0.87688,     0.87788,     0.87888,     0.87988,     0.88088,     0.88188,     0.88288,     0.88388,     0.88488,     0.88589,     0.88689,     0.88789,\n",
       "           0.88889,     0.88989,     0.89089,     0.89189,     0.89289,     0.89389,     0.89489,      0.8959,      0.8969,      0.8979,      0.8989,      0.8999,      0.9009,      0.9019,      0.9029,      0.9039,      0.9049,     0.90591,     0.90691,     0.90791,     0.90891,     0.90991,     0.91091,     0.91191,\n",
       "           0.91291,     0.91391,     0.91491,     0.91592,     0.91692,     0.91792,     0.91892,     0.91992,     0.92092,     0.92192,     0.92292,     0.92392,     0.92492,     0.92593,     0.92693,     0.92793,     0.92893,     0.92993,     0.93093,     0.93193,     0.93293,     0.93393,     0.93493,     0.93594,\n",
       "           0.93694,     0.93794,     0.93894,     0.93994,     0.94094,     0.94194,     0.94294,     0.94394,     0.94494,     0.94595,     0.94695,     0.94795,     0.94895,     0.94995,     0.95095,     0.95195,     0.95295,     0.95395,     0.95495,     0.95596,     0.95696,     0.95796,     0.95896,     0.95996,\n",
       "           0.96096,     0.96196,     0.96296,     0.96396,     0.96496,     0.96597,     0.96697,     0.96797,     0.96897,     0.96997,     0.97097,     0.97197,     0.97297,     0.97397,     0.97497,     0.97598,     0.97698,     0.97798,     0.97898,     0.97998,     0.98098,     0.98198,     0.98298,     0.98398,\n",
       "           0.98498,     0.98599,     0.98699,     0.98799,     0.98899,     0.98999,     0.99099,     0.99199,     0.99299,     0.99399,     0.99499,       0.996,       0.997,       0.998,       0.999,           1]), array([[    0.91058,     0.91058,     0.91058,     0.91058,     0.91058,     0.91058,     0.91058,     0.91058,     0.91058,     0.91058,     0.91058,     0.91058,     0.91058,     0.91058,     0.91058,     0.91058,     0.91058,     0.91058,     0.91058,     0.91058,     0.91058,     0.91058,     0.91058,\n",
       "            0.91058,     0.91058,     0.91058,     0.91058,     0.91058,     0.91058,     0.91058,     0.91058,     0.91058,     0.91058,     0.91058,     0.91058,     0.91058,     0.91058,     0.91058,     0.91058,     0.91058,     0.91058,     0.91058,     0.91058,     0.91058,     0.91058,     0.91058,\n",
       "            0.91058,     0.91058,     0.91058,     0.91058,     0.91058,     0.91058,     0.91058,     0.91058,     0.91058,     0.91058,     0.91058,     0.91058,     0.91058,     0.91058,     0.91058,     0.91058,     0.91058,     0.91058,     0.91058,     0.91058,     0.91058,     0.91058,     0.91058,\n",
       "            0.91058,     0.91058,     0.91058,     0.91058,     0.91058,     0.91058,     0.91058,     0.91058,     0.91058,     0.91058,     0.91058,     0.91058,     0.91058,     0.91058,     0.91058,     0.91058,     0.91058,     0.91058,     0.91058,     0.91058,     0.91058,     0.91058,     0.91058,\n",
       "            0.91058,     0.91058,     0.91058,     0.91058,     0.91058,     0.91058,     0.91058,     0.91058,     0.91058,     0.91058,     0.91058,     0.91058,     0.91058,     0.91058,     0.91058,     0.91058,     0.91058,     0.91058,     0.91058,     0.91058,     0.91058,     0.91058,     0.91058,\n",
       "            0.91058,     0.91058,     0.91058,     0.91058,     0.91058,     0.91058,     0.91058,     0.91058,     0.91058,     0.91058,     0.91058,     0.91058,     0.91058,     0.91058,     0.91058,     0.91058,     0.91058,     0.91058,     0.91058,     0.91058,     0.91058,     0.91058,     0.91058,\n",
       "            0.91058,     0.91058,     0.91058,     0.91058,     0.91058,     0.91058,     0.91058,     0.91058,     0.91058,     0.91058,     0.91058,     0.91058,     0.91058,     0.91058,     0.91058,     0.91058,     0.91058,     0.91058,     0.91058,     0.91058,     0.91058,     0.91058,     0.91058,\n",
       "            0.91058,     0.91058,     0.91058,     0.91058,     0.91058,     0.91058,     0.91058,     0.91058,     0.91058,     0.91058,     0.91058,     0.91058,     0.91058,     0.91058,     0.91058,     0.91058,     0.91058,     0.91058,     0.91058,     0.91058,     0.91058,     0.91058,     0.91058,\n",
       "            0.91058,     0.91058,     0.91058,     0.91058,     0.91058,     0.91058,     0.91058,     0.91058,     0.91058,     0.91058,     0.91058,     0.91058,     0.91058,     0.91058,     0.91058,     0.91058,     0.91058,     0.91058,     0.91058,     0.91058,     0.91058,     0.91058,     0.91058,\n",
       "            0.91058,     0.91058,     0.91058,     0.91058,     0.91058,     0.91058,     0.91058,     0.91058,     0.91058,     0.91058,     0.91058,     0.91058,     0.91058,     0.91058,     0.91058,     0.91058,     0.91058,     0.91058,     0.91058,     0.91058,     0.91058,     0.91058,     0.91058,\n",
       "            0.91058,     0.91058,     0.91058,     0.91058,     0.91058,     0.91058,     0.91058,     0.91058,     0.91058,     0.91058,     0.91058,     0.91058,     0.91058,     0.91058,     0.91058,     0.91058,     0.91058,     0.91058,     0.91058,     0.91058,     0.91058,     0.91058,     0.91058,\n",
       "            0.91058,     0.91058,     0.91058,     0.91058,     0.91058,     0.91058,     0.91058,     0.91058,     0.91058,     0.91058,     0.91058,     0.91058,     0.91058,     0.91058,     0.91058,     0.91058,     0.91058,     0.91058,     0.91058,     0.91058,     0.91058,     0.91058,     0.91058,\n",
       "            0.91058,     0.91058,     0.91058,     0.91058,     0.91058,     0.91058,     0.91058,     0.91058,     0.91058,     0.91058,     0.91058,     0.91058,     0.91058,     0.91058,     0.91058,     0.91058,     0.91058,     0.91058,     0.91058,     0.91058,     0.91058,     0.91058,     0.91058,\n",
       "            0.91058,     0.91058,     0.91058,     0.91058,     0.91058,     0.91058,     0.91058,     0.91058,     0.91058,     0.91058,     0.91058,     0.91058,     0.91058,     0.91058,     0.91058,     0.91058,     0.91058,     0.91058,     0.91058,     0.91058,     0.91058,     0.91058,     0.91058,\n",
       "            0.91058,     0.91058,     0.91058,     0.91058,     0.91058,     0.91058,     0.91058,     0.91058,     0.91058,     0.91058,     0.91058,     0.91058,     0.91058,     0.91058,     0.91058,     0.91058,     0.91058,     0.91058,     0.91058,     0.91058,     0.91058,     0.91058,     0.91058,\n",
       "            0.91058,     0.91058,     0.91058,     0.91058,     0.91058,     0.91058,     0.91058,     0.91058,     0.91058,     0.91058,     0.91058,     0.91058,     0.91058,     0.91058,     0.91058,     0.91058,     0.91058,     0.91058,     0.91058,     0.91058,     0.91058,     0.91058,     0.91058,\n",
       "            0.91058,     0.91058,     0.91058,     0.91058,     0.91058,     0.91058,     0.91058,     0.91058,     0.91058,     0.91058,     0.91058,     0.91058,     0.91058,     0.91058,     0.91058,     0.91058,     0.91058,     0.91058,     0.91058,     0.91058,     0.91058,     0.91058,     0.91058,\n",
       "            0.91058,     0.91058,     0.91058,     0.91058,     0.91058,     0.91058,     0.91058,     0.91058,     0.91058,     0.91058,     0.91058,     0.91058,     0.91058,     0.91058,     0.91058,     0.91058,     0.91058,     0.91058,     0.91058,     0.91058,     0.91058,     0.91058,     0.91058,\n",
       "            0.91058,     0.91058,     0.91058,     0.91058,     0.91058,     0.91058,     0.91058,     0.91058,     0.91058,     0.91058,     0.91058,     0.91058,     0.91058,     0.91058,     0.91058,     0.91058,     0.91058,     0.91058,     0.91058,     0.91058,     0.91058,     0.91058,     0.91058,\n",
       "            0.91058,     0.91058,     0.91058,     0.91058,     0.91058,     0.91058,     0.91058,     0.91058,     0.91058,     0.91058,     0.91058,     0.91058,     0.91058,     0.91058,     0.91058,     0.91058,     0.91058,     0.91058,     0.91058,     0.91058,     0.91058,     0.91058,     0.91058,\n",
       "            0.91058,     0.91058,     0.91058,     0.91058,     0.91058,     0.91058,     0.91058,     0.91058,     0.91058,     0.91058,     0.91058,     0.91058,     0.91058,     0.91058,     0.91058,     0.91058,     0.91058,     0.91058,     0.91058,     0.91058,     0.91058,     0.91058,     0.91058,\n",
       "            0.91058,     0.91058,     0.91058,     0.91058,     0.91058,     0.91058,     0.91058,     0.91058,     0.91058,     0.91058,     0.91058,     0.91058,     0.91058,     0.91058,     0.91058,     0.91058,     0.91058,     0.91058,     0.91058,     0.91058,     0.91058,     0.91051,     0.91027,\n",
       "            0.91007,     0.90945,     0.90888,     0.90853,     0.90774,      0.9075,     0.90732,     0.90714,     0.90697,     0.90679,     0.90662,     0.90619,     0.90547,     0.90547,     0.90547,     0.90533,     0.90512,     0.90496,     0.90496,     0.90496,     0.90496,     0.90496,     0.90496,\n",
       "            0.90496,     0.90485,     0.90445,     0.90445,     0.90445,     0.90445,     0.90445,     0.90445,     0.90427,     0.90393,     0.90391,     0.90383,     0.90375,     0.90367,     0.90359,     0.90351,     0.90342,     0.90306,     0.90228,     0.90142,     0.90138,     0.90138,     0.90138,\n",
       "             0.9009,     0.90074,     0.90062,     0.90049,     0.90036,     0.89937,     0.89895,     0.89858,     0.89824,     0.89793,     0.89729,     0.89726,     0.89698,     0.89645,     0.89599,     0.89571,     0.89557,     0.89542,     0.89527,     0.89503,     0.89477,     0.89474,     0.89459,\n",
       "             0.8944,     0.89417,     0.89357,     0.89276,     0.89269,     0.89269,     0.89233,     0.89218,     0.89214,     0.89193,     0.89172,     0.89152,     0.89122,     0.89065,     0.89063,     0.89028,     0.89014,     0.88993,     0.88962,     0.88938,     0.88914,     0.88867,     0.88861,\n",
       "            0.88848,     0.88809,     0.88809,     0.88809,     0.88809,     0.88809,     0.88809,     0.88758,     0.88709,     0.88642,     0.88448,     0.88407,     0.88344,     0.88333,     0.88322,      0.8831,     0.88299,     0.88247,     0.88231,      0.8821,     0.88187,      0.8816,     0.88134,\n",
       "            0.88108,     0.88094,     0.88037,     0.88008,     0.87992,     0.87927,     0.87845,     0.87777,     0.87748,     0.87702,     0.87566,       0.875,     0.87398,     0.87317,     0.87299,      0.8728,     0.87207,     0.87174,     0.87157,     0.87141,     0.87125,     0.87002,     0.86898,\n",
       "            0.86856,     0.86807,     0.86792,     0.86777,      0.8671,      0.8665,     0.86632,     0.86614,     0.86469,     0.86427,     0.86391,     0.86358,     0.86192,      0.8616,     0.86096,     0.86055,     0.85923,     0.85834,     0.85798,     0.85749,      0.8562,      0.8555,     0.85482,\n",
       "            0.85339,     0.85219,      0.8518,     0.85127,        0.85,     0.84879,     0.84783,     0.84568,     0.84447,     0.84366,     0.84262,     0.84163,     0.83988,     0.83898,     0.83837,     0.83761,     0.83751,     0.83681,     0.83627,     0.83538,     0.83389,     0.83374,     0.83358,\n",
       "            0.83343,     0.83257,     0.83138,      0.8303,     0.82983,     0.82892,     0.82762,     0.82725,     0.82574,     0.82487,     0.82411,     0.82366,     0.82259,     0.82115,     0.82042,     0.81946,     0.81667,      0.8155,     0.81281,     0.81168,      0.8081,     0.80695,     0.80479,\n",
       "            0.80434,     0.80162,     0.80072,     0.79813,     0.79771,     0.79414,     0.79254,      0.7903,     0.78834,     0.78707,       0.785,     0.78201,     0.77968,     0.77643,     0.77473,     0.77275,     0.76951,     0.76812,     0.76468,      0.7607,      0.7583,     0.75427,     0.75174,\n",
       "            0.74836,     0.74464,     0.74246,     0.74078,        0.74,     0.73812,     0.73531,     0.73045,     0.72832,     0.72468,     0.72374,     0.71938,     0.71781,     0.71339,     0.70999,     0.70743,     0.70485,     0.70332,     0.69888,     0.69519,     0.69203,     0.68657,     0.68337,\n",
       "            0.67949,     0.67441,     0.66624,     0.66173,     0.65724,     0.65142,     0.64863,     0.64326,     0.64184,     0.63606,     0.63249,     0.62666,     0.62264,     0.61849,     0.61493,     0.60786,     0.60143,     0.59477,     0.59121,     0.58645,     0.57738,     0.57236,     0.56764,\n",
       "            0.56262,     0.55891,     0.55386,     0.54565,     0.53998,     0.53414,     0.52766,     0.52388,     0.52148,     0.51638,     0.51037,      0.5044,     0.49756,      0.4886,     0.48248,     0.47633,     0.47083,     0.46514,     0.45964,     0.45374,     0.44996,     0.44337,     0.43868,\n",
       "             0.4352,     0.42904,     0.42532,     0.42116,     0.41251,     0.40529,     0.40075,     0.39709,      0.3925,     0.38728,     0.38133,     0.37605,     0.36927,     0.36367,     0.35979,     0.35686,     0.35223,     0.34743,     0.34384,     0.33883,     0.33279,     0.32834,      0.3234,\n",
       "             0.3175,     0.31329,     0.30914,     0.30572,     0.30326,     0.30136,     0.29688,     0.29324,     0.29081,     0.28529,     0.28301,     0.27972,     0.27689,      0.2722,     0.26678,     0.25886,      0.2543,     0.25037,     0.24625,      0.2396,     0.23363,     0.22873,     0.22162,\n",
       "            0.21691,     0.21324,      0.2071,     0.20374,     0.19932,     0.19599,     0.19255,     0.19048,     0.18709,     0.18301,     0.17786,     0.17556,     0.17042,     0.16919,      0.1653,     0.15939,     0.15378,     0.14993,     0.14646,     0.13912,     0.13342,      0.1311,     0.12771,\n",
       "            0.12161,     0.11913,     0.11391,     0.10959,      0.1073,     0.10349,     0.10066,     0.09555,    0.090089,    0.085676,    0.080189,    0.077462,    0.074379,    0.071619,    0.068055,    0.065118,    0.063267,    0.061275,    0.058796,    0.054022,    0.051705,    0.048777,    0.046476,\n",
       "           0.044006,    0.041791,    0.039172,    0.036728,    0.034742,    0.032133,    0.030038,    0.029138,    0.026162,    0.024003,    0.022391,    0.021832,    0.020626,    0.019397,    0.017823,    0.017399,    0.015737,    0.014476,    0.013699,    0.013386,    0.011165,    0.010804,   0.0096424,\n",
       "          0.0081775,   0.0074309,   0.0071334,   0.0060837,   0.0057633,   0.0055413,    0.005398,   0.0052547,   0.0051114,   0.0043752,   0.0038267,   0.0032019,   0.0024082,    0.001982,   0.0016787,   0.0015035,   0.0014468,   0.0013901,   0.0013334,   0.0012767,     0.00122,   0.0011633,   0.0011066,\n",
       "          0.0010498,  0.00087641,   0.0005901,           0,           0,           0,           0,           0,           0,           0,           0,           0,           0,           0,           0,           0,           0,           0,           0,           0,           0,           0,           0,\n",
       "                  0,           0,           0,           0,           0,           0,           0,           0,           0,           0,           0,           0,           0,           0,           0,           0,           0,           0,           0,           0,           0,           0,           0,\n",
       "                  0,           0,           0,           0,           0,           0,           0,           0,           0,           0,           0]]), 'Confidence', 'Recall']]\n",
       "fitness: 0.6912153714565642\n",
       "keys: ['metrics/precision(B)', 'metrics/recall(B)', 'metrics/mAP50(B)', 'metrics/mAP50-95(B)']\n",
       "maps: array([    0.66282,     0.66282])\n",
       "names: {0: 'airplane', 1: 'aircraft'}\n",
       "plot: True\n",
       "results_dict: {'metrics/precision(B)': 0.9575497044599678, 'metrics/recall(B)': 0.9105774144098109, 'metrics/mAP50(B)': 0.9467932569983786, 'metrics/mAP50-95(B)': 0.6628178286185848, 'fitness': 0.6912153714565642}\n",
       "save_dir: WindowsPath('runs/detect/train6')\n",
       "speed: {'preprocess': 0.8133928600557663, 'inference': 33.940767657783354, 'loss': 0.0, 'postprocess': 0.17910014282090628}\n",
       "task: 'detect'"
      ]
     },
     "execution_count": 3,
     "metadata": {},
     "output_type": "execute_result"
    }
   ],
   "source": [
    "from ultralytics import YOLO\n",
    "\n",
    "# Load the model\n",
    "model = YOLO(\"yolov8n.pt\")\n",
    "\n",
    "# Train the model\n",
    "model.train(data=\"data.yaml\", epochs=10, imgsz=416, conf=0.5, max_det=300, device='cpu')"
   ]
  }
 ],
 "metadata": {
  "colab": {
   "authorship_tag": "ABX9TyOQaYpRgzhLDXxFGZ7TzR1W",
   "provenance": []
  },
  "kernelspec": {
   "display_name": "Python 3",
   "name": "python3"
  },
  "language_info": {
   "codemirror_mode": {
    "name": "ipython",
    "version": 3
   },
   "file_extension": ".py",
   "mimetype": "text/x-python",
   "name": "python",
   "nbconvert_exporter": "python",
   "pygments_lexer": "ipython3",
   "version": "3.11.1"
  }
 },
 "nbformat": 4,
 "nbformat_minor": 0
}
